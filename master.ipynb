{
  "nbformat": 4,
  "nbformat_minor": 0,
  "metadata": {
    "colab": {
      "name": "master.ipynb",
      "provenance": [],
      "collapsed_sections": [],
      "include_colab_link": true
    },
    "kernelspec": {
      "name": "python3",
      "display_name": "Python 3"
    }
  },
  "cells": [
    {
      "cell_type": "markdown",
      "metadata": {
        "id": "view-in-github",
        "colab_type": "text"
      },
      "source": [
        "<a href=\"https://colab.research.google.com/github/dwihdyn/algo-trading/blob/master/master.ipynb\" target=\"_parent\"><img src=\"https://colab.research.google.com/assets/colab-badge.svg\" alt=\"Open In Colab\"/></a>"
      ]
    },
    {
      "cell_type": "markdown",
      "metadata": {
        "id": "JK2esIsApg0a",
        "colab_type": "text"
      },
      "source": [
        "**Reference : https://www.oreilly.com/library/view/hands-on-algorithmic-trading/9781492082637/** \n",
        "\n",
        "Module 2 & 4\n",
        "\n",
        "Summary :\n",
        "1.   Get Stock price from alphavantage API\n",
        "2.   Rename data column\n",
        "3.   Convert prices from string to float\n",
        "4.   Convert the index to date\n",
        "5.   Visualise data in time series\n",
        "6.   Create & calculate SMA10 & SMA20\n",
        "7.   Sort the data with the date, ascending order\n",
        "8.   Recalculate SMA10 & SMA20 due to sort data\n",
        "9.   Remove any NaN values in SMA10 & SMA20\n"
      ]
    },
    {
      "cell_type": "markdown",
      "metadata": {
        "id": "lT-Ncy5Xojpy",
        "colab_type": "text"
      },
      "source": [
        "***IMPORT MODULES***"
      ]
    },
    {
      "cell_type": "code",
      "metadata": {
        "id": "MLwTJO78oGg6",
        "colab_type": "code",
        "colab": {}
      },
      "source": [
        "import pandas as pd\n",
        "import pandas_datareader as pdr\n",
        "from datetime import datetime\n",
        "import matplotlib.pyplot as plt\n",
        "plt.style.use('seaborn')\n",
        "import requests\n",
        "import json"
      ],
      "execution_count": 0,
      "outputs": []
    },
    {
      "cell_type": "markdown",
      "metadata": {
        "id": "SJ3aPuNypIc3",
        "colab_type": "text"
      },
      "source": [
        "***IMPORT MSFT DATA FROM ALPHAVANTAGE***"
      ]
    },
    {
      "cell_type": "code",
      "metadata": {
        "id": "PHfC2qUXpPJs",
        "colab_type": "code",
        "outputId": "a781f64b-d298-4369-a559-2a05932e4238",
        "colab": {
          "base_uri": "https://localhost:8080/",
          "height": 34
        }
      },
      "source": [
        "response = requests.get(\"https://www.alphavantage.co/query?function=TIME_SERIES_DAILY&symbol=MSFT&apikey=RKKWDNO3XD91IUBZ\")\n",
        "alphadict = json.loads(response.text)\n",
        "alphadict.keys()"
      ],
      "execution_count": 2,
      "outputs": [
        {
          "output_type": "execute_result",
          "data": {
            "text/plain": [
              "dict_keys(['Meta Data', 'Time Series (Daily)'])"
            ]
          },
          "metadata": {
            "tags": []
          },
          "execution_count": 2
        }
      ]
    },
    {
      "cell_type": "code",
      "metadata": {
        "id": "e2Hdi1PfqfFa",
        "colab_type": "code",
        "outputId": "0a0f5ec5-f0e0-419b-fd58-cfcba7f62ecc",
        "colab": {
          "base_uri": "https://localhost:8080/",
          "height": 187
        }
      },
      "source": [
        "stock = pd.DataFrame(alphadict['Time Series (Daily)']).T\n",
        "stock.info()"
      ],
      "execution_count": 3,
      "outputs": [
        {
          "output_type": "stream",
          "text": [
            "<class 'pandas.core.frame.DataFrame'>\n",
            "Index: 100 entries, 2020-01-03 to 2019-08-13\n",
            "Data columns (total 5 columns):\n",
            "1. open      100 non-null object\n",
            "2. high      100 non-null object\n",
            "3. low       100 non-null object\n",
            "4. close     100 non-null object\n",
            "5. volume    100 non-null object\n",
            "dtypes: object(5)\n",
            "memory usage: 4.7+ KB\n"
          ],
          "name": "stdout"
        }
      ]
    },
    {
      "cell_type": "markdown",
      "metadata": {
        "id": "3TKT5_FErxBI",
        "colab_type": "text"
      },
      "source": [
        "***RENAME THE (BAD) NAMING COLUMN ['1. open', ...] -> ['open', ...]***\n"
      ]
    },
    {
      "cell_type": "code",
      "metadata": {
        "id": "02ndE0mJrg0L",
        "colab_type": "code",
        "outputId": "ea539bb6-3684-418e-ee79-d2a16cb2b927",
        "colab": {
          "base_uri": "https://localhost:8080/",
          "height": 34
        }
      },
      "source": [
        "stock.columns"
      ],
      "execution_count": 4,
      "outputs": [
        {
          "output_type": "execute_result",
          "data": {
            "text/plain": [
              "Index(['1. open', '2. high', '3. low', '4. close', '5. volume'], dtype='object')"
            ]
          },
          "metadata": {
            "tags": []
          },
          "execution_count": 4
        }
      ]
    },
    {
      "cell_type": "code",
      "metadata": {
        "id": "LcJsTmS6sF2g",
        "colab_type": "code",
        "outputId": "ce568e0a-27af-4d46-98e8-a876013fe9c6",
        "colab": {
          "base_uri": "https://localhost:8080/",
          "height": 34
        }
      },
      "source": [
        "stock.columns = ['open', 'high', 'low', 'close', 'volume']\n",
        "stock.columns"
      ],
      "execution_count": 5,
      "outputs": [
        {
          "output_type": "execute_result",
          "data": {
            "text/plain": [
              "Index(['open', 'high', 'low', 'close', 'volume'], dtype='object')"
            ]
          },
          "metadata": {
            "tags": []
          },
          "execution_count": 5
        }
      ]
    },
    {
      "cell_type": "markdown",
      "metadata": {
        "id": "PClGFd7zsgtI",
        "colab_type": "text"
      },
      "source": [
        "***CONVERT PRICES FROM STRING TO FLOAT***"
      ]
    },
    {
      "cell_type": "code",
      "metadata": {
        "id": "PojaTrznsWQk",
        "colab_type": "code",
        "outputId": "87d63183-97c0-4c0d-8bae-e542a2047642",
        "colab": {
          "base_uri": "https://localhost:8080/",
          "height": 34
        }
      },
      "source": [
        "stock = stock.astype(float)\n",
        "type(stock['close'][1])"
      ],
      "execution_count": 6,
      "outputs": [
        {
          "output_type": "execute_result",
          "data": {
            "text/plain": [
              "numpy.float64"
            ]
          },
          "metadata": {
            "tags": []
          },
          "execution_count": 6
        }
      ]
    },
    {
      "cell_type": "markdown",
      "metadata": {
        "id": "o9ejOEtVtPkO",
        "colab_type": "text"
      },
      "source": [
        "***CONVERT THE INDEX TO DATE***"
      ]
    },
    {
      "cell_type": "code",
      "metadata": {
        "id": "VAFDLdGGtWXq",
        "colab_type": "code",
        "outputId": "d17e77a3-8015-4716-e878-49ee20d4cc3f",
        "colab": {
          "base_uri": "https://localhost:8080/",
          "height": 34
        }
      },
      "source": [
        "# type(stock.index) # check that its index\n",
        "stock.index = pd.to_datetime(stock.index)\n",
        "type(stock.index) # now check that now is date"
      ],
      "execution_count": 7,
      "outputs": [
        {
          "output_type": "execute_result",
          "data": {
            "text/plain": [
              "pandas.core.indexes.datetimes.DatetimeIndex"
            ]
          },
          "metadata": {
            "tags": []
          },
          "execution_count": 7
        }
      ]
    },
    {
      "cell_type": "markdown",
      "metadata": {
        "id": "SIxRrPVrwCpP",
        "colab_type": "text"
      },
      "source": [
        "\n",
        "***SHOW 10 SAMPLE DATA BY RANDOM***\n"
      ]
    },
    {
      "cell_type": "code",
      "metadata": {
        "id": "NFc6FK00un7B",
        "colab_type": "code",
        "outputId": "8c0e74de-f560-48dc-c8b3-006344de636c",
        "colab": {
          "base_uri": "https://localhost:8080/",
          "height": 359
        }
      },
      "source": [
        "sample = stock.sample(10)\n",
        "sample"
      ],
      "execution_count": 8,
      "outputs": [
        {
          "output_type": "execute_result",
          "data": {
            "text/html": [
              "<div>\n",
              "<style scoped>\n",
              "    .dataframe tbody tr th:only-of-type {\n",
              "        vertical-align: middle;\n",
              "    }\n",
              "\n",
              "    .dataframe tbody tr th {\n",
              "        vertical-align: top;\n",
              "    }\n",
              "\n",
              "    .dataframe thead th {\n",
              "        text-align: right;\n",
              "    }\n",
              "</style>\n",
              "<table border=\"1\" class=\"dataframe\">\n",
              "  <thead>\n",
              "    <tr style=\"text-align: right;\">\n",
              "      <th></th>\n",
              "      <th>open</th>\n",
              "      <th>high</th>\n",
              "      <th>low</th>\n",
              "      <th>close</th>\n",
              "      <th>volume</th>\n",
              "    </tr>\n",
              "  </thead>\n",
              "  <tbody>\n",
              "    <tr>\n",
              "      <th>2019-11-27</th>\n",
              "      <td>152.33</td>\n",
              "      <td>152.5000</td>\n",
              "      <td>151.520</td>\n",
              "      <td>152.32</td>\n",
              "      <td>15201293.0</td>\n",
              "    </tr>\n",
              "    <tr>\n",
              "      <th>2019-10-01</th>\n",
              "      <td>139.66</td>\n",
              "      <td>140.2500</td>\n",
              "      <td>137.000</td>\n",
              "      <td>137.07</td>\n",
              "      <td>22581929.0</td>\n",
              "    </tr>\n",
              "    <tr>\n",
              "      <th>2019-12-12</th>\n",
              "      <td>151.65</td>\n",
              "      <td>153.4400</td>\n",
              "      <td>151.020</td>\n",
              "      <td>153.24</td>\n",
              "      <td>24645366.0</td>\n",
              "    </tr>\n",
              "    <tr>\n",
              "      <th>2019-08-13</th>\n",
              "      <td>136.05</td>\n",
              "      <td>138.8000</td>\n",
              "      <td>135.000</td>\n",
              "      <td>138.60</td>\n",
              "      <td>25496593.0</td>\n",
              "    </tr>\n",
              "    <tr>\n",
              "      <th>2019-09-10</th>\n",
              "      <td>136.80</td>\n",
              "      <td>136.8862</td>\n",
              "      <td>134.510</td>\n",
              "      <td>136.08</td>\n",
              "      <td>28903378.0</td>\n",
              "    </tr>\n",
              "    <tr>\n",
              "      <th>2019-08-20</th>\n",
              "      <td>138.21</td>\n",
              "      <td>138.7100</td>\n",
              "      <td>137.240</td>\n",
              "      <td>137.26</td>\n",
              "      <td>21188998.0</td>\n",
              "    </tr>\n",
              "    <tr>\n",
              "      <th>2019-10-16</th>\n",
              "      <td>140.79</td>\n",
              "      <td>140.9900</td>\n",
              "      <td>139.530</td>\n",
              "      <td>140.41</td>\n",
              "      <td>20841687.0</td>\n",
              "    </tr>\n",
              "    <tr>\n",
              "      <th>2019-11-21</th>\n",
              "      <td>149.40</td>\n",
              "      <td>149.8000</td>\n",
              "      <td>148.501</td>\n",
              "      <td>149.48</td>\n",
              "      <td>18576083.0</td>\n",
              "    </tr>\n",
              "    <tr>\n",
              "      <th>2019-10-07</th>\n",
              "      <td>137.14</td>\n",
              "      <td>138.1800</td>\n",
              "      <td>137.020</td>\n",
              "      <td>137.12</td>\n",
              "      <td>16601284.0</td>\n",
              "    </tr>\n",
              "    <tr>\n",
              "      <th>2019-11-05</th>\n",
              "      <td>144.97</td>\n",
              "      <td>145.0200</td>\n",
              "      <td>143.905</td>\n",
              "      <td>144.46</td>\n",
              "      <td>18250172.0</td>\n",
              "    </tr>\n",
              "  </tbody>\n",
              "</table>\n",
              "</div>"
            ],
            "text/plain": [
              "              open      high      low   close      volume\n",
              "2019-11-27  152.33  152.5000  151.520  152.32  15201293.0\n",
              "2019-10-01  139.66  140.2500  137.000  137.07  22581929.0\n",
              "2019-12-12  151.65  153.4400  151.020  153.24  24645366.0\n",
              "2019-08-13  136.05  138.8000  135.000  138.60  25496593.0\n",
              "2019-09-10  136.80  136.8862  134.510  136.08  28903378.0\n",
              "2019-08-20  138.21  138.7100  137.240  137.26  21188998.0\n",
              "2019-10-16  140.79  140.9900  139.530  140.41  20841687.0\n",
              "2019-11-21  149.40  149.8000  148.501  149.48  18576083.0\n",
              "2019-10-07  137.14  138.1800  137.020  137.12  16601284.0\n",
              "2019-11-05  144.97  145.0200  143.905  144.46  18250172.0"
            ]
          },
          "metadata": {
            "tags": []
          },
          "execution_count": 8
        }
      ]
    },
    {
      "cell_type": "markdown",
      "metadata": {
        "id": "a9FahB2FxGXt",
        "colab_type": "text"
      },
      "source": [
        "***SUMMARISE DATA***"
      ]
    },
    {
      "cell_type": "code",
      "metadata": {
        "id": "TbRbGGg2xCzD",
        "colab_type": "code",
        "outputId": "49d2d0d7-3fc2-4557-a54f-a24c6f5fbdca",
        "colab": {
          "base_uri": "https://localhost:8080/",
          "height": 297
        }
      },
      "source": [
        "summary = stock.describe()\n",
        "summary"
      ],
      "execution_count": 9,
      "outputs": [
        {
          "output_type": "execute_result",
          "data": {
            "text/html": [
              "<div>\n",
              "<style scoped>\n",
              "    .dataframe tbody tr th:only-of-type {\n",
              "        vertical-align: middle;\n",
              "    }\n",
              "\n",
              "    .dataframe tbody tr th {\n",
              "        vertical-align: top;\n",
              "    }\n",
              "\n",
              "    .dataframe thead th {\n",
              "        text-align: right;\n",
              "    }\n",
              "</style>\n",
              "<table border=\"1\" class=\"dataframe\">\n",
              "  <thead>\n",
              "    <tr style=\"text-align: right;\">\n",
              "      <th></th>\n",
              "      <th>open</th>\n",
              "      <th>high</th>\n",
              "      <th>low</th>\n",
              "      <th>close</th>\n",
              "      <th>volume</th>\n",
              "    </tr>\n",
              "  </thead>\n",
              "  <tbody>\n",
              "    <tr>\n",
              "      <th>count</th>\n",
              "      <td>100.000000</td>\n",
              "      <td>100.000000</td>\n",
              "      <td>100.000000</td>\n",
              "      <td>100.000000</td>\n",
              "      <td>1.000000e+02</td>\n",
              "    </tr>\n",
              "    <tr>\n",
              "      <th>mean</th>\n",
              "      <td>143.989429</td>\n",
              "      <td>144.795037</td>\n",
              "      <td>142.885844</td>\n",
              "      <td>143.942550</td>\n",
              "      <td>2.261601e+07</td>\n",
              "    </tr>\n",
              "    <tr>\n",
              "      <th>std</th>\n",
              "      <td>7.306040</td>\n",
              "      <td>7.308945</td>\n",
              "      <td>7.608383</td>\n",
              "      <td>7.543238</td>\n",
              "      <td>6.615946e+06</td>\n",
              "    </tr>\n",
              "    <tr>\n",
              "      <th>min</th>\n",
              "      <td>134.390000</td>\n",
              "      <td>134.580000</td>\n",
              "      <td>132.250000</td>\n",
              "      <td>133.390000</td>\n",
              "      <td>8.989150e+06</td>\n",
              "    </tr>\n",
              "    <tr>\n",
              "      <th>25%</th>\n",
              "      <td>137.832500</td>\n",
              "      <td>138.692500</td>\n",
              "      <td>136.552475</td>\n",
              "      <td>137.602500</td>\n",
              "      <td>1.795236e+07</td>\n",
              "    </tr>\n",
              "    <tr>\n",
              "      <th>50%</th>\n",
              "      <td>140.575000</td>\n",
              "      <td>141.535000</td>\n",
              "      <td>139.525000</td>\n",
              "      <td>140.570000</td>\n",
              "      <td>2.182878e+07</td>\n",
              "    </tr>\n",
              "    <tr>\n",
              "      <th>75%</th>\n",
              "      <td>150.182500</td>\n",
              "      <td>150.962500</td>\n",
              "      <td>149.270000</td>\n",
              "      <td>150.062500</td>\n",
              "      <td>2.551021e+07</td>\n",
              "    </tr>\n",
              "    <tr>\n",
              "      <th>max</th>\n",
              "      <td>159.450000</td>\n",
              "      <td>160.730000</td>\n",
              "      <td>158.330000</td>\n",
              "      <td>160.620000</td>\n",
              "      <td>5.359961e+07</td>\n",
              "    </tr>\n",
              "  </tbody>\n",
              "</table>\n",
              "</div>"
            ],
            "text/plain": [
              "             open        high         low       close        volume\n",
              "count  100.000000  100.000000  100.000000  100.000000  1.000000e+02\n",
              "mean   143.989429  144.795037  142.885844  143.942550  2.261601e+07\n",
              "std      7.306040    7.308945    7.608383    7.543238  6.615946e+06\n",
              "min    134.390000  134.580000  132.250000  133.390000  8.989150e+06\n",
              "25%    137.832500  138.692500  136.552475  137.602500  1.795236e+07\n",
              "50%    140.575000  141.535000  139.525000  140.570000  2.182878e+07\n",
              "75%    150.182500  150.962500  149.270000  150.062500  2.551021e+07\n",
              "max    159.450000  160.730000  158.330000  160.620000  5.359961e+07"
            ]
          },
          "metadata": {
            "tags": []
          },
          "execution_count": 9
        }
      ]
    },
    {
      "cell_type": "markdown",
      "metadata": {
        "id": "a_YRPE95xTLR",
        "colab_type": "text"
      },
      "source": [
        "***VISUALISE DATA***"
      ]
    },
    {
      "cell_type": "code",
      "metadata": {
        "id": "n8H75HrOxWRm",
        "colab_type": "code",
        "outputId": "ed0b5760-f062-4a42-9457-6d6498971701",
        "colab": {
          "base_uri": "https://localhost:8080/",
          "height": 349
        }
      },
      "source": [
        "stock['close'].plot(figsize=(20,5), title='MSFT Daily Closing Prices'),plt.show()"
      ],
      "execution_count": 10,
      "outputs": [
        {
          "output_type": "display_data",
          "data": {
            "image/png": "[encoded data removed]",
            "text/plain": [
              "<Figure size 1440x360 with 1 Axes>"
            ]
          },
          "metadata": {
            "tags": []
          }
        },
        {
          "output_type": "execute_result",
          "data": {
            "text/plain": [
              "(<matplotlib.axes._subplots.AxesSubplot at 0x7f6b1ff481d0>, None)"
            ]
          },
          "metadata": {
            "tags": []
          },
          "execution_count": 10
        }
      ]
    },
    {
      "cell_type": "markdown",
      "metadata": {
        "id": "ceFZVRbmzUyG",
        "colab_type": "text"
      },
      "source": [
        "***EXPLORING SIGNALS : SMA CROSSOVER***"
      ]
    },
    {
      "cell_type": "code",
      "metadata": {
        "id": "KCI2m_auzZaP",
        "colab_type": "code",
        "outputId": "adc9217f-e772-4ef3-f10a-ea51ad7fd035",
        "colab": {
          "base_uri": "https://localhost:8080/",
          "height": 349
        }
      },
      "source": [
        "stock['SMA10'] = stock['close'].rolling(10).mean()\n",
        "stock['SMA20'] = stock['close'].rolling(20).mean()\n",
        "stock[['close', 'SMA10', 'SMA20']].plot(figsize=(20,5), grid=True, title='MSFT Closing Price, SMA(10), SMA(20)'),plt.show()\n",
        "# stock # NaN because it takes mean of n period FORWARD, alphavantage issue on data importing"
      ],
      "execution_count": 11,
      "outputs": [
        {
          "output_type": "display_data",
          "data": {
            "image/png": "[encoded data removed]",
            "text/plain": [
              "<Figure size 1440x360 with 1 Axes>"
            ]
          },
          "metadata": {
            "tags": []
          }
        },
        {
          "output_type": "execute_result",
          "data": {
            "text/plain": [
              "(<matplotlib.axes._subplots.AxesSubplot at 0x7f6b1fa44898>, None)"
            ]
          },
          "metadata": {
            "tags": []
          },
          "execution_count": 11
        }
      ]
    },
    {
      "cell_type": "markdown",
      "metadata": {
        "id": "17jJVuta2eFD",
        "colab_type": "text"
      },
      "source": [
        "***SORT DATA BY DATE ASCENDING & PLOT RIGHT CHART***"
      ]
    },
    {
      "cell_type": "code",
      "metadata": {
        "id": "XW5aB8Hb25sq",
        "colab_type": "code",
        "outputId": "5f11ac86-d74e-411b-da19-3a7a72ba285d",
        "colab": {
          "base_uri": "https://localhost:8080/",
          "height": 204
        }
      },
      "source": [
        "stock.head()"
      ],
      "execution_count": 12,
      "outputs": [
        {
          "output_type": "execute_result",
          "data": {
            "text/html": [
              "<div>\n",
              "<style scoped>\n",
              "    .dataframe tbody tr th:only-of-type {\n",
              "        vertical-align: middle;\n",
              "    }\n",
              "\n",
              "    .dataframe tbody tr th {\n",
              "        vertical-align: top;\n",
              "    }\n",
              "\n",
              "    .dataframe thead th {\n",
              "        text-align: right;\n",
              "    }\n",
              "</style>\n",
              "<table border=\"1\" class=\"dataframe\">\n",
              "  <thead>\n",
              "    <tr style=\"text-align: right;\">\n",
              "      <th></th>\n",
              "      <th>open</th>\n",
              "      <th>high</th>\n",
              "      <th>low</th>\n",
              "      <th>close</th>\n",
              "      <th>volume</th>\n",
              "      <th>SMA10</th>\n",
              "      <th>SMA20</th>\n",
              "    </tr>\n",
              "  </thead>\n",
              "  <tbody>\n",
              "    <tr>\n",
              "      <th>2020-01-03</th>\n",
              "      <td>158.3200</td>\n",
              "      <td>159.945</td>\n",
              "      <td>158.06</td>\n",
              "      <td>158.62</td>\n",
              "      <td>21121681.0</td>\n",
              "      <td>NaN</td>\n",
              "      <td>NaN</td>\n",
              "    </tr>\n",
              "    <tr>\n",
              "      <th>2020-01-02</th>\n",
              "      <td>158.7800</td>\n",
              "      <td>160.730</td>\n",
              "      <td>158.33</td>\n",
              "      <td>160.62</td>\n",
              "      <td>22634546.0</td>\n",
              "      <td>NaN</td>\n",
              "      <td>NaN</td>\n",
              "    </tr>\n",
              "    <tr>\n",
              "      <th>2019-12-31</th>\n",
              "      <td>156.7700</td>\n",
              "      <td>157.770</td>\n",
              "      <td>156.45</td>\n",
              "      <td>157.70</td>\n",
              "      <td>18393383.0</td>\n",
              "      <td>NaN</td>\n",
              "      <td>NaN</td>\n",
              "    </tr>\n",
              "    <tr>\n",
              "      <th>2019-12-30</th>\n",
              "      <td>158.9865</td>\n",
              "      <td>159.020</td>\n",
              "      <td>156.73</td>\n",
              "      <td>157.59</td>\n",
              "      <td>16356720.0</td>\n",
              "      <td>NaN</td>\n",
              "      <td>NaN</td>\n",
              "    </tr>\n",
              "    <tr>\n",
              "      <th>2019-12-27</th>\n",
              "      <td>159.4500</td>\n",
              "      <td>159.550</td>\n",
              "      <td>158.22</td>\n",
              "      <td>158.96</td>\n",
              "      <td>18414352.0</td>\n",
              "      <td>NaN</td>\n",
              "      <td>NaN</td>\n",
              "    </tr>\n",
              "  </tbody>\n",
              "</table>\n",
              "</div>"
            ],
            "text/plain": [
              "                open     high     low   close      volume  SMA10  SMA20\n",
              "2020-01-03  158.3200  159.945  158.06  158.62  21121681.0    NaN    NaN\n",
              "2020-01-02  158.7800  160.730  158.33  160.62  22634546.0    NaN    NaN\n",
              "2019-12-31  156.7700  157.770  156.45  157.70  18393383.0    NaN    NaN\n",
              "2019-12-30  158.9865  159.020  156.73  157.59  16356720.0    NaN    NaN\n",
              "2019-12-27  159.4500  159.550  158.22  158.96  18414352.0    NaN    NaN"
            ]
          },
          "metadata": {
            "tags": []
          },
          "execution_count": 12
        }
      ]
    },
    {
      "cell_type": "code",
      "metadata": {
        "id": "8FOhUeBA2vct",
        "colab_type": "code",
        "outputId": "acda85c2-9577-4238-e2a8-672c3128b3ce",
        "colab": {
          "base_uri": "https://localhost:8080/",
          "height": 204
        }
      },
      "source": [
        "stock = stock.sort_index(ascending=True)\n",
        "stock.head()"
      ],
      "execution_count": 13,
      "outputs": [
        {
          "output_type": "execute_result",
          "data": {
            "text/html": [
              "<div>\n",
              "<style scoped>\n",
              "    .dataframe tbody tr th:only-of-type {\n",
              "        vertical-align: middle;\n",
              "    }\n",
              "\n",
              "    .dataframe tbody tr th {\n",
              "        vertical-align: top;\n",
              "    }\n",
              "\n",
              "    .dataframe thead th {\n",
              "        text-align: right;\n",
              "    }\n",
              "</style>\n",
              "<table border=\"1\" class=\"dataframe\">\n",
              "  <thead>\n",
              "    <tr style=\"text-align: right;\">\n",
              "      <th></th>\n",
              "      <th>open</th>\n",
              "      <th>high</th>\n",
              "      <th>low</th>\n",
              "      <th>close</th>\n",
              "      <th>volume</th>\n",
              "      <th>SMA10</th>\n",
              "      <th>SMA20</th>\n",
              "    </tr>\n",
              "  </thead>\n",
              "  <tbody>\n",
              "    <tr>\n",
              "      <th>2019-08-13</th>\n",
              "      <td>136.050</td>\n",
              "      <td>138.80</td>\n",
              "      <td>135.000</td>\n",
              "      <td>138.60</td>\n",
              "      <td>25496593.0</td>\n",
              "      <td>136.347</td>\n",
              "      <td>136.8585</td>\n",
              "    </tr>\n",
              "    <tr>\n",
              "      <th>2019-08-14</th>\n",
              "      <td>136.360</td>\n",
              "      <td>136.92</td>\n",
              "      <td>133.670</td>\n",
              "      <td>133.98</td>\n",
              "      <td>32527251.0</td>\n",
              "      <td>136.061</td>\n",
              "      <td>136.7345</td>\n",
              "    </tr>\n",
              "    <tr>\n",
              "      <th>2019-08-15</th>\n",
              "      <td>134.390</td>\n",
              "      <td>134.58</td>\n",
              "      <td>132.250</td>\n",
              "      <td>133.68</td>\n",
              "      <td>28125416.0</td>\n",
              "      <td>136.219</td>\n",
              "      <td>136.9115</td>\n",
              "    </tr>\n",
              "    <tr>\n",
              "      <th>2019-08-16</th>\n",
              "      <td>134.880</td>\n",
              "      <td>136.46</td>\n",
              "      <td>134.720</td>\n",
              "      <td>136.13</td>\n",
              "      <td>25026151.0</td>\n",
              "      <td>136.663</td>\n",
              "      <td>137.0935</td>\n",
              "    </tr>\n",
              "    <tr>\n",
              "      <th>2019-08-19</th>\n",
              "      <td>137.855</td>\n",
              "      <td>138.55</td>\n",
              "      <td>136.885</td>\n",
              "      <td>138.41</td>\n",
              "      <td>24370543.0</td>\n",
              "      <td>136.836</td>\n",
              "      <td>137.1035</td>\n",
              "    </tr>\n",
              "  </tbody>\n",
              "</table>\n",
              "</div>"
            ],
            "text/plain": [
              "               open    high      low   close      volume    SMA10     SMA20\n",
              "2019-08-13  136.050  138.80  135.000  138.60  25496593.0  136.347  136.8585\n",
              "2019-08-14  136.360  136.92  133.670  133.98  32527251.0  136.061  136.7345\n",
              "2019-08-15  134.390  134.58  132.250  133.68  28125416.0  136.219  136.9115\n",
              "2019-08-16  134.880  136.46  134.720  136.13  25026151.0  136.663  137.0935\n",
              "2019-08-19  137.855  138.55  136.885  138.41  24370543.0  136.836  137.1035"
            ]
          },
          "metadata": {
            "tags": []
          },
          "execution_count": 13
        }
      ]
    },
    {
      "cell_type": "code",
      "metadata": {
        "id": "sttH2MnG3KNW",
        "colab_type": "code",
        "outputId": "3d0a0212-4042-4f50-ca22-d1fc7ce25ef9",
        "colab": {
          "base_uri": "https://localhost:8080/",
          "height": 349
        }
      },
      "source": [
        "# Need to recalculate SMA\n",
        "\n",
        "stock['SMA10'] = stock['close'].rolling(10).mean()\n",
        "stock['SMA20'] = stock['close'].rolling(20).mean()\n",
        "stock[['close', 'SMA10','SMA20']].plot(figsize=(20,5), grid=True, title='MSFT Closing Price, SMA(10), SMA(20)'),plt.show()"
      ],
      "execution_count": 14,
      "outputs": [
        {
          "output_type": "display_data",
          "data": {
            "image/png": "[encoded data removed]",
            "text/plain": [
              "<Figure size 1440x360 with 1 Axes>"
            ]
          },
          "metadata": {
            "tags": []
          }
        },
        {
          "output_type": "execute_result",
          "data": {
            "text/plain": [
              "(<matplotlib.axes._subplots.AxesSubplot at 0x7f6b1f9ddc18>, None)"
            ]
          },
          "metadata": {
            "tags": []
          },
          "execution_count": 14
        }
      ]
    },
    {
      "cell_type": "code",
      "metadata": {
        "id": "_GRdJQ2D3_u-",
        "colab_type": "code",
        "outputId": "eb4e980b-effd-4da8-e3b2-b24b4e40c5f9",
        "colab": {
          "base_uri": "https://localhost:8080/",
          "height": 204
        }
      },
      "source": [
        "stock.head()"
      ],
      "execution_count": 15,
      "outputs": [
        {
          "output_type": "execute_result",
          "data": {
            "text/html": [
              "<div>\n",
              "<style scoped>\n",
              "    .dataframe tbody tr th:only-of-type {\n",
              "        vertical-align: middle;\n",
              "    }\n",
              "\n",
              "    .dataframe tbody tr th {\n",
              "        vertical-align: top;\n",
              "    }\n",
              "\n",
              "    .dataframe thead th {\n",
              "        text-align: right;\n",
              "    }\n",
              "</style>\n",
              "<table border=\"1\" class=\"dataframe\">\n",
              "  <thead>\n",
              "    <tr style=\"text-align: right;\">\n",
              "      <th></th>\n",
              "      <th>open</th>\n",
              "      <th>high</th>\n",
              "      <th>low</th>\n",
              "      <th>close</th>\n",
              "      <th>volume</th>\n",
              "      <th>SMA10</th>\n",
              "      <th>SMA20</th>\n",
              "    </tr>\n",
              "  </thead>\n",
              "  <tbody>\n",
              "    <tr>\n",
              "      <th>2019-08-13</th>\n",
              "      <td>136.050</td>\n",
              "      <td>138.80</td>\n",
              "      <td>135.000</td>\n",
              "      <td>138.60</td>\n",
              "      <td>25496593.0</td>\n",
              "      <td>NaN</td>\n",
              "      <td>NaN</td>\n",
              "    </tr>\n",
              "    <tr>\n",
              "      <th>2019-08-14</th>\n",
              "      <td>136.360</td>\n",
              "      <td>136.92</td>\n",
              "      <td>133.670</td>\n",
              "      <td>133.98</td>\n",
              "      <td>32527251.0</td>\n",
              "      <td>NaN</td>\n",
              "      <td>NaN</td>\n",
              "    </tr>\n",
              "    <tr>\n",
              "      <th>2019-08-15</th>\n",
              "      <td>134.390</td>\n",
              "      <td>134.58</td>\n",
              "      <td>132.250</td>\n",
              "      <td>133.68</td>\n",
              "      <td>28125416.0</td>\n",
              "      <td>NaN</td>\n",
              "      <td>NaN</td>\n",
              "    </tr>\n",
              "    <tr>\n",
              "      <th>2019-08-16</th>\n",
              "      <td>134.880</td>\n",
              "      <td>136.46</td>\n",
              "      <td>134.720</td>\n",
              "      <td>136.13</td>\n",
              "      <td>25026151.0</td>\n",
              "      <td>NaN</td>\n",
              "      <td>NaN</td>\n",
              "    </tr>\n",
              "    <tr>\n",
              "      <th>2019-08-19</th>\n",
              "      <td>137.855</td>\n",
              "      <td>138.55</td>\n",
              "      <td>136.885</td>\n",
              "      <td>138.41</td>\n",
              "      <td>24370543.0</td>\n",
              "      <td>NaN</td>\n",
              "      <td>NaN</td>\n",
              "    </tr>\n",
              "  </tbody>\n",
              "</table>\n",
              "</div>"
            ],
            "text/plain": [
              "               open    high      low   close      volume  SMA10  SMA20\n",
              "2019-08-13  136.050  138.80  135.000  138.60  25496593.0    NaN    NaN\n",
              "2019-08-14  136.360  136.92  133.670  133.98  32527251.0    NaN    NaN\n",
              "2019-08-15  134.390  134.58  132.250  133.68  28125416.0    NaN    NaN\n",
              "2019-08-16  134.880  136.46  134.720  136.13  25026151.0    NaN    NaN\n",
              "2019-08-19  137.855  138.55  136.885  138.41  24370543.0    NaN    NaN"
            ]
          },
          "metadata": {
            "tags": []
          },
          "execution_count": 15
        }
      ]
    },
    {
      "cell_type": "markdown",
      "metadata": {
        "id": "1ppkHd1a4MTS",
        "colab_type": "text"
      },
      "source": [
        "***REMOVE NaN***"
      ]
    },
    {
      "cell_type": "code",
      "metadata": {
        "id": "unzBHkZ54S2E",
        "colab_type": "code",
        "outputId": "f2d4cf9c-57eb-41b9-96d9-c38d76be105e",
        "colab": {
          "base_uri": "https://localhost:8080/",
          "height": 451
        }
      },
      "source": [
        "stock.dropna(inplace=True)\n",
        "print(stock.head())\n",
        "stock[['close', 'SMA10','SMA20']].plot(figsize=(20,5), grid=True, title='MSFT Closing Price, SMA(10), SMA(20)'),plt.show()"
      ],
      "execution_count": 16,
      "outputs": [
        {
          "output_type": "stream",
          "text": [
            "              open      high     low   close      volume    SMA10     SMA20\n",
            "2019-09-10  136.80  136.8862  134.51  136.08  28903378.0  137.370  136.8585\n",
            "2019-09-11  135.91  136.2700  135.09  136.12  24726117.0  137.408  136.7345\n",
            "2019-09-12  137.85  138.4200  136.87  137.52  27009981.0  137.604  136.9115\n",
            "2019-09-13  137.78  138.0600  136.57  137.32  23363057.0  137.524  137.0935\n",
            "2019-09-16  135.83  136.7000  135.66  136.33  16731440.0  137.371  137.1035\n"
          ],
          "name": "stdout"
        },
        {
          "output_type": "display_data",
          "data": {
            "image/png": "[encoded data removed]",
            "text/plain": [
              "<Figure size 1440x360 with 1 Axes>"
            ]
          },
          "metadata": {
            "tags": []
          }
        },
        {
          "output_type": "execute_result",
          "data": {
            "text/plain": [
              "(<matplotlib.axes._subplots.AxesSubplot at 0x7f6b1e14e0b8>, None)"
            ]
          },
          "metadata": {
            "tags": []
          },
          "execution_count": 16
        }
      ]
    },
    {
      "cell_type": "markdown",
      "metadata": {
        "id": "Plr-my35bavf",
        "colab_type": "text"
      },
      "source": [
        "***QUICK CHECK : MANUAL SMA10 VS SMA10 FROM ALPHAVANTAGE*** "
      ]
    },
    {
      "cell_type": "code",
      "metadata": {
        "id": "p3PkmSEXcagF",
        "colab_type": "code",
        "colab": {
          "base_uri": "https://localhost:8080/",
          "height": 493
        },
        "outputId": "251e0035-a7c2-45b4-c67a-747d2a56cf39"
      },
      "source": [
        "from IPython.display import display # display mulltiple things in one block\n",
        "\n",
        "# pull data\n",
        "response = requests.get(\"https://www.alphavantage.co/query?function=SMA&symbol=MSFT&interval=daily&time_period=10&series_type=close&apikey=RKKWDNO3XD91IUBZ\")\n",
        "alphadict = json.loads(response.text)\n",
        "alphadict.keys() # get keys that need to be typed inside pd.DataFrame\n",
        "\n",
        "# quick data cleansing\n",
        "sma10 = pd.DataFrame(alphadict['Technical Analysis: SMA']).T\n",
        "sma10.index = pd.to_datetime(sma10.index)\n",
        "sma10 = sma10.sort_index(ascending=True)\n",
        "sma10.columns = ['SMA10']\n",
        "sma10.columns\n",
        "sma10 = sma10.astype(float)\n",
        "\n",
        "# show both tables\n",
        "display(stock.tail()) # manual calculation\n",
        "display(sma10.tail()) # alphavantage\n",
        "\n",
        "# calculate difference. expected 0\n",
        "diff = display(round(sma10['SMA10'].tail() - stock['SMA10'].tail()))\n",
        "\n",
        "\n"
      ],
      "execution_count": 41,
      "outputs": [
        {
          "output_type": "display_data",
          "data": {
            "text/html": [
              "<div>\n",
              "<style scoped>\n",
              "    .dataframe tbody tr th:only-of-type {\n",
              "        vertical-align: middle;\n",
              "    }\n",
              "\n",
              "    .dataframe tbody tr th {\n",
              "        vertical-align: top;\n",
              "    }\n",
              "\n",
              "    .dataframe thead th {\n",
              "        text-align: right;\n",
              "    }\n",
              "</style>\n",
              "<table border=\"1\" class=\"dataframe\">\n",
              "  <thead>\n",
              "    <tr style=\"text-align: right;\">\n",
              "      <th></th>\n",
              "      <th>open</th>\n",
              "      <th>high</th>\n",
              "      <th>low</th>\n",
              "      <th>close</th>\n",
              "      <th>volume</th>\n",
              "      <th>SMA10</th>\n",
              "      <th>SMA20</th>\n",
              "    </tr>\n",
              "  </thead>\n",
              "  <tbody>\n",
              "    <tr>\n",
              "      <th>2019-12-27</th>\n",
              "      <td>159.4500</td>\n",
              "      <td>159.550</td>\n",
              "      <td>158.22</td>\n",
              "      <td>158.96</td>\n",
              "      <td>18414352.0</td>\n",
              "      <td>156.466</td>\n",
              "      <td>153.6930</td>\n",
              "    </tr>\n",
              "    <tr>\n",
              "      <th>2019-12-30</th>\n",
              "      <td>158.9865</td>\n",
              "      <td>159.020</td>\n",
              "      <td>156.73</td>\n",
              "      <td>157.59</td>\n",
              "      <td>16356720.0</td>\n",
              "      <td>156.772</td>\n",
              "      <td>154.0035</td>\n",
              "    </tr>\n",
              "    <tr>\n",
              "      <th>2019-12-31</th>\n",
              "      <td>156.7700</td>\n",
              "      <td>157.770</td>\n",
              "      <td>156.45</td>\n",
              "      <td>157.70</td>\n",
              "      <td>18393383.0</td>\n",
              "      <td>156.989</td>\n",
              "      <td>154.4110</td>\n",
              "    </tr>\n",
              "    <tr>\n",
              "      <th>2020-01-02</th>\n",
              "      <td>158.7800</td>\n",
              "      <td>160.730</td>\n",
              "      <td>158.33</td>\n",
              "      <td>160.62</td>\n",
              "      <td>22634546.0</td>\n",
              "      <td>157.582</td>\n",
              "      <td>154.9765</td>\n",
              "    </tr>\n",
              "    <tr>\n",
              "      <th>2020-01-03</th>\n",
              "      <td>158.3200</td>\n",
              "      <td>159.945</td>\n",
              "      <td>158.06</td>\n",
              "      <td>158.62</td>\n",
              "      <td>21121681.0</td>\n",
              "      <td>158.007</td>\n",
              "      <td>155.4150</td>\n",
              "    </tr>\n",
              "  </tbody>\n",
              "</table>\n",
              "</div>"
            ],
            "text/plain": [
              "                open     high     low   close      volume    SMA10     SMA20\n",
              "2019-12-27  159.4500  159.550  158.22  158.96  18414352.0  156.466  153.6930\n",
              "2019-12-30  158.9865  159.020  156.73  157.59  16356720.0  156.772  154.0035\n",
              "2019-12-31  156.7700  157.770  156.45  157.70  18393383.0  156.989  154.4110\n",
              "2020-01-02  158.7800  160.730  158.33  160.62  22634546.0  157.582  154.9765\n",
              "2020-01-03  158.3200  159.945  158.06  158.62  21121681.0  158.007  155.4150"
            ]
          },
          "metadata": {
            "tags": []
          }
        },
        {
          "output_type": "display_data",
          "data": {
            "text/html": [
              "<div>\n",
              "<style scoped>\n",
              "    .dataframe tbody tr th:only-of-type {\n",
              "        vertical-align: middle;\n",
              "    }\n",
              "\n",
              "    .dataframe tbody tr th {\n",
              "        vertical-align: top;\n",
              "    }\n",
              "\n",
              "    .dataframe thead th {\n",
              "        text-align: right;\n",
              "    }\n",
              "</style>\n",
              "<table border=\"1\" class=\"dataframe\">\n",
              "  <thead>\n",
              "    <tr style=\"text-align: right;\">\n",
              "      <th></th>\n",
              "      <th>SMA10</th>\n",
              "    </tr>\n",
              "  </thead>\n",
              "  <tbody>\n",
              "    <tr>\n",
              "      <th>2019-12-27</th>\n",
              "      <td>156.466</td>\n",
              "    </tr>\n",
              "    <tr>\n",
              "      <th>2019-12-30</th>\n",
              "      <td>156.772</td>\n",
              "    </tr>\n",
              "    <tr>\n",
              "      <th>2019-12-31</th>\n",
              "      <td>156.989</td>\n",
              "    </tr>\n",
              "    <tr>\n",
              "      <th>2020-01-02</th>\n",
              "      <td>157.582</td>\n",
              "    </tr>\n",
              "    <tr>\n",
              "      <th>2020-01-03</th>\n",
              "      <td>158.007</td>\n",
              "    </tr>\n",
              "  </tbody>\n",
              "</table>\n",
              "</div>"
            ],
            "text/plain": [
              "              SMA10\n",
              "2019-12-27  156.466\n",
              "2019-12-30  156.772\n",
              "2019-12-31  156.989\n",
              "2020-01-02  157.582\n",
              "2020-01-03  158.007"
            ]
          },
          "metadata": {
            "tags": []
          }
        },
        {
          "output_type": "display_data",
          "data": {
            "text/plain": [
              "2019-12-27    0.0\n",
              "2019-12-30    0.0\n",
              "2019-12-31    0.0\n",
              "2020-01-02    0.0\n",
              "2020-01-03    0.0\n",
              "Name: SMA10, dtype: float64"
            ]
          },
          "metadata": {
            "tags": []
          }
        }
      ]
    },
    {
      "cell_type": "markdown",
      "metadata": {
        "id": "HZATTwAp1Fkz",
        "colab_type": "text"
      },
      "source": [
        "***US STOCKS PERFORMANCE BY SECTOR***"
      ]
    },
    {
      "cell_type": "code",
      "metadata": {
        "id": "8RyhtI2PicQK",
        "colab_type": "code",
        "colab": {}
      },
      "source": [
        "# pull data\n",
        "response = requests.get(\"https://www.alphavantage.co/query?function=SECTOR&apikey=RKKWDNO3XD91IUBZ\")\n",
        "\n",
        "alphadict = json.loads(response.text)\n",
        "alphadict.keys() # get keys that need to be typed inside pd.DataFrame\n",
        "\n",
        "realTime = pd.DataFrame(alphadict['Rank A: Real-Time Performance'], index=['realTime']).T\n",
        "oneDay = pd.DataFrame(alphadict['Rank B: 1 Day Performance'], index=['oneDay']).T\n",
        "fiveDay = pd.DataFrame(alphadict['Rank C: 5 Day Performance'], index=['fiveDay']).T\n",
        "oneMonth = pd.DataFrame(alphadict['Rank D: 1 Month Performance'], index=['oneMonth']).T\n",
        "threeMonth = pd.DataFrame(alphadict['Rank E: 3 Month Performance'], index=['threeMonth']).T\n",
        "yearToDate = pd.DataFrame(alphadict['Rank F: Year-to-Date (YTD) Performance'], index=['yearToDate']).T\n",
        "oneYear = pd.DataFrame(alphadict['Rank G: 1 Year Performance'], index=['oneYear']).T\n",
        "threeYear = pd.DataFrame(alphadict['Rank H: 3 Year Performance'],index=['threeYear']).T\n",
        "fiveYear = pd.DataFrame(alphadict['Rank I: 5 Year Performance'], index=['fiveYear']).T\n",
        "tenYear = pd.DataFrame(alphadict['Rank J: 10 Year Performance'], index=['tenYear']).T\n",
        "\n",
        "# convert all data from string to float (soon)\n",
        "\n",
        "\n",
        "\n"
      ],
      "execution_count": 0,
      "outputs": []
    },
    {
      "cell_type": "code",
      "metadata": {
        "id": "QVzcgT3KtTV-",
        "colab_type": "code",
        "colab": {
          "base_uri": "https://localhost:8080/",
          "height": 359
        },
        "outputId": "84a03465-deb4-49e2-e874-b2d633697cde"
      },
      "source": [
        "allData = [realTime, oneDay, fiveDay, oneMonth, threeMonth, yearToDate, oneYear, threeYear, fiveYear, tenYear]\n",
        "\n",
        "\n",
        "sector = pd.merge(realTime, oneDay, left_index=True, right_index=True)\n",
        "\n",
        "i = 1\n",
        "while i < 10:\n",
        "  sector = pd.merge(sector, allData[i], left_index=True, right_index=True)\n",
        "  i = i + 1\n",
        "\n",
        "sector"
      ],
      "execution_count": 144,
      "outputs": [
        {
          "output_type": "execute_result",
          "data": {
            "text/html": [
              "<div>\n",
              "<style scoped>\n",
              "    .dataframe tbody tr th:only-of-type {\n",
              "        vertical-align: middle;\n",
              "    }\n",
              "\n",
              "    .dataframe tbody tr th {\n",
              "        vertical-align: top;\n",
              "    }\n",
              "\n",
              "    .dataframe thead th {\n",
              "        text-align: right;\n",
              "    }\n",
              "</style>\n",
              "<table border=\"1\" class=\"dataframe\">\n",
              "  <thead>\n",
              "    <tr style=\"text-align: right;\">\n",
              "      <th></th>\n",
              "      <th>realTime</th>\n",
              "      <th>oneDay_x</th>\n",
              "      <th>oneDay_y</th>\n",
              "      <th>fiveDay</th>\n",
              "      <th>oneMonth</th>\n",
              "      <th>threeMonth</th>\n",
              "      <th>yearToDate</th>\n",
              "      <th>oneYear</th>\n",
              "      <th>threeYear</th>\n",
              "      <th>fiveYear</th>\n",
              "      <th>tenYear</th>\n",
              "    </tr>\n",
              "  </thead>\n",
              "  <tbody>\n",
              "    <tr>\n",
              "      <th>Utilities</th>\n",
              "      <td>0.11%</td>\n",
              "      <td>0.11%</td>\n",
              "      <td>0.11%</td>\n",
              "      <td>-0.55%</td>\n",
              "      <td>2.62%</td>\n",
              "      <td>0.29%</td>\n",
              "      <td>-1.27%</td>\n",
              "      <td>22.86%</td>\n",
              "      <td>31.34%</td>\n",
              "      <td>34.23%</td>\n",
              "      <td>105.19%</td>\n",
              "    </tr>\n",
              "    <tr>\n",
              "      <th>Industrials</th>\n",
              "      <td>-0.12%</td>\n",
              "      <td>-0.12%</td>\n",
              "      <td>-0.12%</td>\n",
              "      <td>1.10%</td>\n",
              "      <td>3.19%</td>\n",
              "      <td>11.59%</td>\n",
              "      <td>1.69%</td>\n",
              "      <td>28.39%</td>\n",
              "      <td>29.95%</td>\n",
              "      <td>43.95%</td>\n",
              "      <td>187.76%</td>\n",
              "    </tr>\n",
              "    <tr>\n",
              "      <th>Consumer Staples</th>\n",
              "      <td>-0.17%</td>\n",
              "      <td>-0.17%</td>\n",
              "      <td>-0.17%</td>\n",
              "      <td>-1.06%</td>\n",
              "      <td>0.76%</td>\n",
              "      <td>4.01%</td>\n",
              "      <td>-0.99%</td>\n",
              "      <td>23.26%</td>\n",
              "      <td>20.45%</td>\n",
              "      <td>28.67%</td>\n",
              "      <td>133.52%</td>\n",
              "    </tr>\n",
              "    <tr>\n",
              "      <th>Energy</th>\n",
              "      <td>-0.34%</td>\n",
              "      <td>-0.34%</td>\n",
              "      <td>-0.34%</td>\n",
              "      <td>0.36%</td>\n",
              "      <td>6.32%</td>\n",
              "      <td>10.30%</td>\n",
              "      <td>0.51%</td>\n",
              "      <td>5.99%</td>\n",
              "      <td>-17.26%</td>\n",
              "      <td>-22.13%</td>\n",
              "      <td>6.70%</td>\n",
              "    </tr>\n",
              "    <tr>\n",
              "      <th>Communication Services</th>\n",
              "      <td>-0.55%</td>\n",
              "      <td>-0.55%</td>\n",
              "      <td>-0.55%</td>\n",
              "      <td>-0.22%</td>\n",
              "      <td>3.58%</td>\n",
              "      <td>12.06%</td>\n",
              "      <td>0.75%</td>\n",
              "      <td>30.24%</td>\n",
              "      <td>3.62%</td>\n",
              "      <td>19.34%</td>\n",
              "      <td>59.64%</td>\n",
              "    </tr>\n",
              "    <tr>\n",
              "      <th>Health Care</th>\n",
              "      <td>-0.85%</td>\n",
              "      <td>-0.85%</td>\n",
              "      <td>-0.85%</td>\n",
              "      <td>-0.96%</td>\n",
              "      <td>3.21%</td>\n",
              "      <td>15.99%</td>\n",
              "      <td>-0.66%</td>\n",
              "      <td>19.51%</td>\n",
              "      <td>48.11%</td>\n",
              "      <td>48.46%</td>\n",
              "      <td>225.86%</td>\n",
              "    </tr>\n",
              "    <tr>\n",
              "      <th>Consumer Discretionary</th>\n",
              "      <td>-0.85%</td>\n",
              "      <td>-0.85%</td>\n",
              "      <td>-0.85%</td>\n",
              "      <td>-0.09%</td>\n",
              "      <td>3.88%</td>\n",
              "      <td>7.28%</td>\n",
              "      <td>0.43%</td>\n",
              "      <td>25.58%</td>\n",
              "      <td>52.90%</td>\n",
              "      <td>74.20%</td>\n",
              "      <td>321.36%</td>\n",
              "    </tr>\n",
              "    <tr>\n",
              "      <th>Information Technology</th>\n",
              "      <td>-1.06%</td>\n",
              "      <td>-1.06%</td>\n",
              "      <td>-1.06%</td>\n",
              "      <td>0.45%</td>\n",
              "      <td>6.59%</td>\n",
              "      <td>18.06%</td>\n",
              "      <td>0.65%</td>\n",
              "      <td>48.91%</td>\n",
              "      <td>100.72%</td>\n",
              "      <td>134.71%</td>\n",
              "      <td>337.45%</td>\n",
              "    </tr>\n",
              "    <tr>\n",
              "      <th>Financials</th>\n",
              "      <td>-1.10%</td>\n",
              "      <td>-1.10%</td>\n",
              "      <td>-1.10%</td>\n",
              "      <td>-0.40%</td>\n",
              "      <td>2.98%</td>\n",
              "      <td>14.39%</td>\n",
              "      <td>-0.17%</td>\n",
              "      <td>28.01%</td>\n",
              "      <td>32.08%</td>\n",
              "      <td>53.12%</td>\n",
              "      <td>163.45%</td>\n",
              "    </tr>\n",
              "    <tr>\n",
              "      <th>Materials</th>\n",
              "      <td>-1.62%</td>\n",
              "      <td>-1.62%</td>\n",
              "      <td>-1.62%</td>\n",
              "      <td>-2.75%</td>\n",
              "      <td>0.86%</td>\n",
              "      <td>7.23%</td>\n",
              "      <td>-2.84%</td>\n",
              "      <td>17.87%</td>\n",
              "      <td>20.09%</td>\n",
              "      <td>22.58%</td>\n",
              "      <td>87.62%</td>\n",
              "    </tr>\n",
              "  </tbody>\n",
              "</table>\n",
              "</div>"
            ],
            "text/plain": [
              "                       realTime oneDay_x oneDay_y  ... threeYear fiveYear  tenYear\n",
              "Utilities                 0.11%    0.11%    0.11%  ...    31.34%   34.23%  105.19%\n",
              "Industrials              -0.12%   -0.12%   -0.12%  ...    29.95%   43.95%  187.76%\n",
              "Consumer Staples         -0.17%   -0.17%   -0.17%  ...    20.45%   28.67%  133.52%\n",
              "Energy                   -0.34%   -0.34%   -0.34%  ...   -17.26%  -22.13%    6.70%\n",
              "Communication Services   -0.55%   -0.55%   -0.55%  ...     3.62%   19.34%   59.64%\n",
              "Health Care              -0.85%   -0.85%   -0.85%  ...    48.11%   48.46%  225.86%\n",
              "Consumer Discretionary   -0.85%   -0.85%   -0.85%  ...    52.90%   74.20%  321.36%\n",
              "Information Technology   -1.06%   -1.06%   -1.06%  ...   100.72%  134.71%  337.45%\n",
              "Financials               -1.10%   -1.10%   -1.10%  ...    32.08%   53.12%  163.45%\n",
              "Materials                -1.62%   -1.62%   -1.62%  ...    20.09%   22.58%   87.62%\n",
              "\n",
              "[10 rows x 11 columns]"
            ]
          },
          "metadata": {
            "tags": []
          },
          "execution_count": 144
        }
      ]
    }
  ]
}