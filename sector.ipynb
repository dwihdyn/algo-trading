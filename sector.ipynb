{
  "nbformat": 4,
  "nbformat_minor": 0,
  "metadata": {
    "colab": {
      "name": "sector.ipynb",
      "provenance": [],
      "collapsed_sections": [],
      "include_colab_link": true
    },
    "kernelspec": {
      "name": "python3",
      "display_name": "Python 3"
    }
  },
  "cells": [
    {
      "cell_type": "markdown",
      "metadata": {
        "id": "view-in-github",
        "colab_type": "text"
      },
      "source": [
        "<a href=\"https://colab.research.google.com/github/dwihdyn/algo-trading/blob/master/sector.ipynb\" target=\"_parent\"><img src=\"https://colab.research.google.com/assets/colab-badge.svg\" alt=\"Open In Colab\"/></a>"
      ]
    },
    {
      "cell_type": "markdown",
      "metadata": {
        "id": "3fyQzBw2AhV0",
        "colab_type": "text"
      },
      "source": [
        "***US STOCKS PERFORMANCE BY SECTOR***"
      ]
    },
    {
      "cell_type": "code",
      "metadata": {
        "id": "mqrWZY8sAefB",
        "colab_type": "code",
        "colab": {}
      },
      "source": [
        "# packages\n",
        "import pandas as pd\n",
        "import pandas_datareader as pdr\n",
        "from datetime import datetime\n",
        "import matplotlib.pyplot as plt\n",
        "plt.style.use('seaborn')\n",
        "import requests\n",
        "import json"
      ],
      "execution_count": 0,
      "outputs": []
    },
    {
      "cell_type": "code",
      "metadata": {
        "id": "meBLfFF-AtsP",
        "colab_type": "code",
        "colab": {}
      },
      "source": [
        "# pull data | RKKWDNO3XD91IUBZ -> EXXJQAB3KQ91VHOM (http://decode.org/)\n",
        "response = requests.get(\"https://www.alphavantage.co/query?function=SECTOR&apikey=RKKWDNO3XD91IUBZ\")\n",
        "\n",
        "alphadict = json.loads(response.text)\n",
        "alphadict.keys() # get keys that need to be typed inside pd.DataFrame\n",
        "\n",
        "realTime = pd.DataFrame(alphadict['Rank A: Real-Time Performance'], index=['realTime']).T\n",
        "oneDay = pd.DataFrame(alphadict['Rank B: 1 Day Performance'], index=['oneDay']).T\n",
        "fiveDay = pd.DataFrame(alphadict['Rank C: 5 Day Performance'], index=['fiveDay']).T\n",
        "oneMonth = pd.DataFrame(alphadict['Rank D: 1 Month Performance'], index=['oneMonth']).T\n",
        "threeMonth = pd.DataFrame(alphadict['Rank E: 3 Month Performance'], index=['threeMonth']).T\n",
        "yearToDate = pd.DataFrame(alphadict['Rank F: Year-to-Date (YTD) Performance'], index=['yearToDate']).T\n",
        "oneYear = pd.DataFrame(alphadict['Rank G: 1 Year Performance'], index=['oneYear']).T\n",
        "threeYear = pd.DataFrame(alphadict['Rank H: 3 Year Performance'],index=['threeYear']).T\n",
        "fiveYear = pd.DataFrame(alphadict['Rank I: 5 Year Performance'], index=['fiveYear']).T\n",
        "tenYear = pd.DataFrame(alphadict['Rank J: 10 Year Performance'], index=['tenYear']).T\n",
        "\n",
        "# convert all data from string to float (idea : https://stackoverflow.com/questions/12432663/what-is-a-clean-way-to-convert-a-string-percent-to-a-float)\n",
        "\n"
      ],
      "execution_count": 0,
      "outputs": []
    },
    {
      "cell_type": "code",
      "metadata": {
        "id": "UNf3mAOOA7C3",
        "colab_type": "code",
        "outputId": "c8d7a19c-bf74-473f-f46b-2e6b86a5d02b",
        "colab": {
          "base_uri": "https://localhost:8080/",
          "height": 359
        }
      },
      "source": [
        "allData = [realTime, oneDay, fiveDay, oneMonth, threeMonth, yearToDate, oneYear, threeYear, fiveYear, tenYear]\n",
        "\n",
        "\n",
        "sector = pd.merge(realTime, oneDay, left_index=True, right_index=True)\n",
        "\n",
        "i = 1\n",
        "while i < 10:\n",
        "  sector = pd.merge(sector, allData[i], left_index=True, right_index=True)\n",
        "  i = i + 1\n",
        "\n",
        "sector"
      ],
      "execution_count": 0,
      "outputs": [
        {
          "output_type": "execute_result",
          "data": {
            "text/html": [
              "<div>\n",
              "<style scoped>\n",
              "    .dataframe tbody tr th:only-of-type {\n",
              "        vertical-align: middle;\n",
              "    }\n",
              "\n",
              "    .dataframe tbody tr th {\n",
              "        vertical-align: top;\n",
              "    }\n",
              "\n",
              "    .dataframe thead th {\n",
              "        text-align: right;\n",
              "    }\n",
              "</style>\n",
              "<table border=\"1\" class=\"dataframe\">\n",
              "  <thead>\n",
              "    <tr style=\"text-align: right;\">\n",
              "      <th></th>\n",
              "      <th>realTime</th>\n",
              "      <th>oneDay_x</th>\n",
              "      <th>oneDay_y</th>\n",
              "      <th>fiveDay</th>\n",
              "      <th>oneMonth</th>\n",
              "      <th>threeMonth</th>\n",
              "      <th>yearToDate</th>\n",
              "      <th>oneYear</th>\n",
              "      <th>threeYear</th>\n",
              "      <th>fiveYear</th>\n",
              "      <th>tenYear</th>\n",
              "    </tr>\n",
              "  </thead>\n",
              "  <tbody>\n",
              "    <tr>\n",
              "      <th>Utilities</th>\n",
              "      <td>0.11%</td>\n",
              "      <td>0.11%</td>\n",
              "      <td>0.11%</td>\n",
              "      <td>-0.55%</td>\n",
              "      <td>2.62%</td>\n",
              "      <td>0.29%</td>\n",
              "      <td>-1.27%</td>\n",
              "      <td>22.86%</td>\n",
              "      <td>31.34%</td>\n",
              "      <td>34.23%</td>\n",
              "      <td>105.19%</td>\n",
              "    </tr>\n",
              "    <tr>\n",
              "      <th>Industrials</th>\n",
              "      <td>-0.12%</td>\n",
              "      <td>-0.12%</td>\n",
              "      <td>-0.12%</td>\n",
              "      <td>1.10%</td>\n",
              "      <td>3.19%</td>\n",
              "      <td>11.59%</td>\n",
              "      <td>1.69%</td>\n",
              "      <td>28.39%</td>\n",
              "      <td>29.95%</td>\n",
              "      <td>43.95%</td>\n",
              "      <td>187.76%</td>\n",
              "    </tr>\n",
              "    <tr>\n",
              "      <th>Consumer Staples</th>\n",
              "      <td>-0.17%</td>\n",
              "      <td>-0.17%</td>\n",
              "      <td>-0.17%</td>\n",
              "      <td>-1.06%</td>\n",
              "      <td>0.76%</td>\n",
              "      <td>4.01%</td>\n",
              "      <td>-0.99%</td>\n",
              "      <td>23.26%</td>\n",
              "      <td>20.45%</td>\n",
              "      <td>28.67%</td>\n",
              "      <td>133.52%</td>\n",
              "    </tr>\n",
              "    <tr>\n",
              "      <th>Energy</th>\n",
              "      <td>-0.34%</td>\n",
              "      <td>-0.34%</td>\n",
              "      <td>-0.34%</td>\n",
              "      <td>0.36%</td>\n",
              "      <td>6.32%</td>\n",
              "      <td>10.30%</td>\n",
              "      <td>0.51%</td>\n",
              "      <td>5.99%</td>\n",
              "      <td>-17.26%</td>\n",
              "      <td>-22.13%</td>\n",
              "      <td>6.70%</td>\n",
              "    </tr>\n",
              "    <tr>\n",
              "      <th>Communication Services</th>\n",
              "      <td>-0.55%</td>\n",
              "      <td>-0.55%</td>\n",
              "      <td>-0.55%</td>\n",
              "      <td>-0.22%</td>\n",
              "      <td>3.58%</td>\n",
              "      <td>12.06%</td>\n",
              "      <td>0.75%</td>\n",
              "      <td>30.24%</td>\n",
              "      <td>3.62%</td>\n",
              "      <td>19.34%</td>\n",
              "      <td>59.64%</td>\n",
              "    </tr>\n",
              "    <tr>\n",
              "      <th>Health Care</th>\n",
              "      <td>-0.85%</td>\n",
              "      <td>-0.85%</td>\n",
              "      <td>-0.85%</td>\n",
              "      <td>-0.96%</td>\n",
              "      <td>3.21%</td>\n",
              "      <td>15.99%</td>\n",
              "      <td>-0.66%</td>\n",
              "      <td>19.51%</td>\n",
              "      <td>48.11%</td>\n",
              "      <td>48.46%</td>\n",
              "      <td>225.86%</td>\n",
              "    </tr>\n",
              "    <tr>\n",
              "      <th>Consumer Discretionary</th>\n",
              "      <td>-0.85%</td>\n",
              "      <td>-0.85%</td>\n",
              "      <td>-0.85%</td>\n",
              "      <td>-0.09%</td>\n",
              "      <td>3.88%</td>\n",
              "      <td>7.28%</td>\n",
              "      <td>0.43%</td>\n",
              "      <td>25.58%</td>\n",
              "      <td>52.90%</td>\n",
              "      <td>74.20%</td>\n",
              "      <td>321.36%</td>\n",
              "    </tr>\n",
              "    <tr>\n",
              "      <th>Information Technology</th>\n",
              "      <td>-1.06%</td>\n",
              "      <td>-1.06%</td>\n",
              "      <td>-1.06%</td>\n",
              "      <td>0.45%</td>\n",
              "      <td>6.59%</td>\n",
              "      <td>18.06%</td>\n",
              "      <td>0.65%</td>\n",
              "      <td>48.91%</td>\n",
              "      <td>100.72%</td>\n",
              "      <td>134.71%</td>\n",
              "      <td>337.45%</td>\n",
              "    </tr>\n",
              "    <tr>\n",
              "      <th>Financials</th>\n",
              "      <td>-1.10%</td>\n",
              "      <td>-1.10%</td>\n",
              "      <td>-1.10%</td>\n",
              "      <td>-0.40%</td>\n",
              "      <td>2.98%</td>\n",
              "      <td>14.39%</td>\n",
              "      <td>-0.17%</td>\n",
              "      <td>28.01%</td>\n",
              "      <td>32.08%</td>\n",
              "      <td>53.12%</td>\n",
              "      <td>163.45%</td>\n",
              "    </tr>\n",
              "    <tr>\n",
              "      <th>Materials</th>\n",
              "      <td>-1.62%</td>\n",
              "      <td>-1.62%</td>\n",
              "      <td>-1.62%</td>\n",
              "      <td>-2.75%</td>\n",
              "      <td>0.86%</td>\n",
              "      <td>7.23%</td>\n",
              "      <td>-2.84%</td>\n",
              "      <td>17.87%</td>\n",
              "      <td>20.09%</td>\n",
              "      <td>22.58%</td>\n",
              "      <td>87.62%</td>\n",
              "    </tr>\n",
              "  </tbody>\n",
              "</table>\n",
              "</div>"
            ],
            "text/plain": [
              "                       realTime oneDay_x oneDay_y  ... threeYear fiveYear  tenYear\n",
              "Utilities                 0.11%    0.11%    0.11%  ...    31.34%   34.23%  105.19%\n",
              "Industrials              -0.12%   -0.12%   -0.12%  ...    29.95%   43.95%  187.76%\n",
              "Consumer Staples         -0.17%   -0.17%   -0.17%  ...    20.45%   28.67%  133.52%\n",
              "Energy                   -0.34%   -0.34%   -0.34%  ...   -17.26%  -22.13%    6.70%\n",
              "Communication Services   -0.55%   -0.55%   -0.55%  ...     3.62%   19.34%   59.64%\n",
              "Health Care              -0.85%   -0.85%   -0.85%  ...    48.11%   48.46%  225.86%\n",
              "Consumer Discretionary   -0.85%   -0.85%   -0.85%  ...    52.90%   74.20%  321.36%\n",
              "Information Technology   -1.06%   -1.06%   -1.06%  ...   100.72%  134.71%  337.45%\n",
              "Financials               -1.10%   -1.10%   -1.10%  ...    32.08%   53.12%  163.45%\n",
              "Materials                -1.62%   -1.62%   -1.62%  ...    20.09%   22.58%   87.62%\n",
              "\n",
              "[10 rows x 11 columns]"
            ]
          },
          "metadata": {
            "tags": []
          },
          "execution_count": 3
        }
      ]
    },
    {
      "cell_type": "markdown",
      "metadata": {
        "id": "bR22d6rSLoxo",
        "colab_type": "text"
      },
      "source": [
        "***FOR FUN : CHECKING \n",
        "MANUAL SMA10 VS SMA10 FROM ALPHAVANTAGE*** "
      ]
    },
    {
      "cell_type": "code",
      "metadata": {
        "id": "cxwpM5DZLxk0",
        "colab_type": "code",
        "outputId": "63b9c161-8baa-4f30-a747-f0bb1ebe4424",
        "colab": {
          "base_uri": "https://localhost:8080/",
          "height": 323
        }
      },
      "source": [
        "from IPython.display import display # display mulltiple things in one block\n",
        "\n",
        "# pull SMA data\n",
        "response = requests.get(\"https://www.alphavantage.co/query?function=SMA&symbol=MSFT&interval=daily&time_period=10&series_type=close&apikey=RKKWDNO3XD91IUBZ\")\n",
        "alphadict = json.loads(response.text)\n",
        "alphadict.keys() # get keys that need to be typed inside pd.DataFrame\n",
        "\n",
        "# data cleansing\n",
        "sma10 = pd.DataFrame(alphadict['Technical Analysis: SMA']).T\n",
        "sma10.index = pd.to_datetime(sma10.index)\n",
        "sma10 = sma10.sort_index(ascending=True)\n",
        "sma10.columns = ['SMA10']\n",
        "sma10 = sma10.astype(float)\n",
        "\n",
        "# =======================================================================\n",
        "\n",
        "# pull stock data\n",
        "response = requests.get(\"https://www.alphavantage.co/query?function=TIME_SERIES_DAILY&symbol=MSFT&apikey=RKKWDNO3XD91IUBZ\")\n",
        "alphadict = json.loads(response.text)\n",
        "alphadict.keys()\n",
        "\n",
        "# data cleansing\n",
        "stock = pd.DataFrame(alphadict['Time Series (Daily)']).T\n",
        "stock.index = pd.to_datetime(stock.index)\n",
        "stock = stock.sort_index(ascending=True)\n",
        "stock.columns = ['open', 'high', 'low', 'close', 'volume']\n",
        "stock = stock.astype(float)\n",
        "\n",
        "# calculate SMA from stock data\n",
        "stock['SMA10'] = stock['close'].rolling(10).mean()\n",
        "\n",
        "\n",
        "# show both tables\n",
        "display(stock['SMA10'].tail()) # manual calculation\n",
        "display(sma10['SMA10'].tail()) # alphavantage\n",
        "\n",
        "# calculate difference. expected 0\n",
        "diff = display(round(sma10['SMA10'].tail() - stock['SMA10'].tail()))\n",
        "\n",
        "\n"
      ],
      "execution_count": 0,
      "outputs": [
        {
          "output_type": "display_data",
          "data": {
            "text/plain": [
              "2019-12-30    156.772\n",
              "2019-12-31    156.989\n",
              "2020-01-02    157.582\n",
              "2020-01-03    158.007\n",
              "2020-01-06    158.339\n",
              "Name: SMA10, dtype: float64"
            ]
          },
          "metadata": {
            "tags": []
          }
        },
        {
          "output_type": "display_data",
          "data": {
            "text/plain": [
              "2019-12-30    156.772\n",
              "2019-12-31    156.989\n",
              "2020-01-02    157.582\n",
              "2020-01-03    158.007\n",
              "2020-01-06    158.339\n",
              "Name: SMA10, dtype: float64"
            ]
          },
          "metadata": {
            "tags": []
          }
        },
        {
          "output_type": "display_data",
          "data": {
            "text/plain": [
              "2019-12-30    0.0\n",
              "2019-12-31    0.0\n",
              "2020-01-02    0.0\n",
              "2020-01-03    0.0\n",
              "2020-01-06    0.0\n",
              "Name: SMA10, dtype: float64"
            ]
          },
          "metadata": {
            "tags": []
          }
        }
      ]
    },
    {
      "cell_type": "code",
      "metadata": {
        "id": "Xxmc9EfvPPtu",
        "colab_type": "code",
        "colab": {}
      },
      "source": [
        ""
      ],
      "execution_count": 0,
      "outputs": []
    }
  ]
}