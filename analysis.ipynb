{
  "nbformat": 4,
  "nbformat_minor": 0,
  "metadata": {
    "colab": {
      "name": "analysis.ipynb",
      "provenance": [],
      "collapsed_sections": [],
      "include_colab_link": true
    },
    "kernelspec": {
      "name": "python3",
      "display_name": "Python 3"
    }
  },
  "cells": [
    {
      "cell_type": "markdown",
      "metadata": {
        "id": "view-in-github",
        "colab_type": "text"
      },
      "source": [
        "<a href=\"https://colab.research.google.com/github/dwihdyn/algo-trading/blob/master/analysis.ipynb\" target=\"_parent\"><img src=\"https://colab.research.google.com/assets/colab-badge.svg\" alt=\"Open In Colab\"/></a>"
      ]
    },
    {
      "cell_type": "markdown",
      "metadata": {
        "id": "JK2esIsApg0a",
        "colab_type": "text"
      },
      "source": [
        "**Reference : https://www.oreilly.com/library/view/hands-on-algorithmic-trading/9781492082637/** \n",
        "\n",
        "Module 2 : Strategy Analysis\n",
        "\n",
        "Summary :\n",
        "1.   Get Stock price from alphavantage API\n",
        "2.   Rename data column\n",
        "3.   Convert prices from string to float\n",
        "4.   Convert the index to date\n",
        "5.   Visualise data in time series\n",
        "6.   Create & calculate SMA10 & SMA20\n",
        "7.   Sort the data with the date, ascending order\n",
        "8.   Recalculate SMA10 & SMA20 due to sort data\n",
        "9.   Remove any NaN values in SMA10 & SMA20\n",
        "10.  Strategy evaluation using Information & Spearman correlation\n"
      ]
    },
    {
      "cell_type": "markdown",
      "metadata": {
        "id": "lT-Ncy5Xojpy",
        "colab_type": "text"
      },
      "source": [
        "## IMPORT MODULES"
      ]
    },
    {
      "cell_type": "code",
      "metadata": {
        "id": "MLwTJO78oGg6",
        "colab_type": "code",
        "colab": {}
      },
      "source": [
        "import pandas as pd\n",
        "import pandas_datareader as pdr\n",
        "from datetime import datetime\n",
        "import matplotlib.pyplot as plt\n",
        "plt.style.use('seaborn')\n",
        "import requests\n",
        "import json"
      ],
      "execution_count": 0,
      "outputs": []
    },
    {
      "cell_type": "markdown",
      "metadata": {
        "id": "SJ3aPuNypIc3",
        "colab_type": "text"
      },
      "source": [
        "## IMPORT MSFT DATA FROM ALPHAVANTAGE"
      ]
    },
    {
      "cell_type": "code",
      "metadata": {
        "id": "PHfC2qUXpPJs",
        "colab_type": "code",
        "outputId": "1a0eab11-bd6e-4061-89f1-6c3b6301dac9",
        "colab": {
          "base_uri": "https://localhost:8080/",
          "height": 34
        }
      },
      "source": [
        "# pull data\n",
        "\n",
        "response = requests.get(\"https://www.alphavantage.co/query?function=TIME_SERIES_DAILY&symbol=MSFT&apikey=demo\")\n",
        "alphadict = json.loads(response.text)\n",
        "alphadict.keys()"
      ],
      "execution_count": 0,
      "outputs": [
        {
          "output_type": "execute_result",
          "data": {
            "text/plain": [
              "dict_keys(['Meta Data', 'Time Series (Daily)'])"
            ]
          },
          "metadata": {
            "tags": []
          },
          "execution_count": 97
        }
      ]
    },
    {
      "cell_type": "code",
      "metadata": {
        "id": "e2Hdi1PfqfFa",
        "colab_type": "code",
        "outputId": "b69d85c9-1185-4d31-8888-dc1f90f71a1e",
        "colab": {
          "base_uri": "https://localhost:8080/",
          "height": 185
        }
      },
      "source": [
        "stock = pd.DataFrame(alphadict['Time Series (Daily)']).T\n",
        "stock.info()"
      ],
      "execution_count": 0,
      "outputs": [
        {
          "output_type": "stream",
          "text": [
            "<class 'pandas.core.frame.DataFrame'>\n",
            "Index: 100 entries, 2020-01-08 to 2019-08-16\n",
            "Data columns (total 5 columns):\n",
            "1. open      100 non-null object\n",
            "2. high      100 non-null object\n",
            "3. low       100 non-null object\n",
            "4. close     100 non-null object\n",
            "5. volume    100 non-null object\n",
            "dtypes: object(5)\n",
            "memory usage: 4.7+ KB\n"
          ],
          "name": "stdout"
        }
      ]
    },
    {
      "cell_type": "markdown",
      "metadata": {
        "id": "3TKT5_FErxBI",
        "colab_type": "text"
      },
      "source": [
        "## RENAME THE (BAD) NAMING COLUMN ['1. open', ...] -> ['open', ...]\n"
      ]
    },
    {
      "cell_type": "code",
      "metadata": {
        "id": "02ndE0mJrg0L",
        "colab_type": "code",
        "outputId": "72506eeb-4102-45e6-8623-d173c31144d4",
        "colab": {
          "base_uri": "https://localhost:8080/",
          "height": 34
        }
      },
      "source": [
        "stock.columns"
      ],
      "execution_count": 0,
      "outputs": [
        {
          "output_type": "execute_result",
          "data": {
            "text/plain": [
              "Index(['1. open', '2. high', '3. low', '4. close', '5. volume'], dtype='object')"
            ]
          },
          "metadata": {
            "tags": []
          },
          "execution_count": 99
        }
      ]
    },
    {
      "cell_type": "code",
      "metadata": {
        "id": "LcJsTmS6sF2g",
        "colab_type": "code",
        "outputId": "a1008df8-4caf-48c0-de8e-5ebb7e995a02",
        "colab": {
          "base_uri": "https://localhost:8080/",
          "height": 34
        }
      },
      "source": [
        "stock.columns = ['open', 'high', 'low', 'close', 'volume']\n",
        "stock.columns"
      ],
      "execution_count": 0,
      "outputs": [
        {
          "output_type": "execute_result",
          "data": {
            "text/plain": [
              "Index(['open', 'high', 'low', 'close', 'volume'], dtype='object')"
            ]
          },
          "metadata": {
            "tags": []
          },
          "execution_count": 100
        }
      ]
    },
    {
      "cell_type": "markdown",
      "metadata": {
        "id": "PClGFd7zsgtI",
        "colab_type": "text"
      },
      "source": [
        "## CONVERT PRICES FROM STRING TO FLOAT"
      ]
    },
    {
      "cell_type": "code",
      "metadata": {
        "id": "PojaTrznsWQk",
        "colab_type": "code",
        "outputId": "bbc908f0-ce94-4c19-e908-80ed4ae266a6",
        "colab": {
          "base_uri": "https://localhost:8080/",
          "height": 34
        }
      },
      "source": [
        "stock = stock.astype(float)\n",
        "type(stock['close'][1])"
      ],
      "execution_count": 0,
      "outputs": [
        {
          "output_type": "execute_result",
          "data": {
            "text/plain": [
              "numpy.float64"
            ]
          },
          "metadata": {
            "tags": []
          },
          "execution_count": 101
        }
      ]
    },
    {
      "cell_type": "markdown",
      "metadata": {
        "id": "o9ejOEtVtPkO",
        "colab_type": "text"
      },
      "source": [
        "## CONVERT THE INDEX TO DATE"
      ]
    },
    {
      "cell_type": "code",
      "metadata": {
        "id": "VAFDLdGGtWXq",
        "colab_type": "code",
        "outputId": "15a13d1d-f417-46e8-99e6-7d272c385e4f",
        "colab": {
          "base_uri": "https://localhost:8080/",
          "height": 34
        }
      },
      "source": [
        "# type(stock.index) # check that its index\n",
        "stock.index = pd.to_datetime(stock.index)\n",
        "type(stock.index) # now check that now is date"
      ],
      "execution_count": 0,
      "outputs": [
        {
          "output_type": "execute_result",
          "data": {
            "text/plain": [
              "pandas.core.indexes.datetimes.DatetimeIndex"
            ]
          },
          "metadata": {
            "tags": []
          },
          "execution_count": 102
        }
      ]
    },
    {
      "cell_type": "markdown",
      "metadata": {
        "id": "SIxRrPVrwCpP",
        "colab_type": "text"
      },
      "source": [
        "## SHOW 10 SAMPLE DATA BY RANDOM"
      ]
    },
    {
      "cell_type": "code",
      "metadata": {
        "id": "NFc6FK00un7B",
        "colab_type": "code",
        "outputId": "80c01826-894a-4273-c6f8-be24edc8422c",
        "colab": {
          "base_uri": "https://localhost:8080/",
          "height": 343
        }
      },
      "source": [
        "sample = stock.sample(10)\n",
        "sample"
      ],
      "execution_count": 0,
      "outputs": [
        {
          "output_type": "execute_result",
          "data": {
            "text/html": [
              "<div>\n",
              "<style scoped>\n",
              "    .dataframe tbody tr th:only-of-type {\n",
              "        vertical-align: middle;\n",
              "    }\n",
              "\n",
              "    .dataframe tbody tr th {\n",
              "        vertical-align: top;\n",
              "    }\n",
              "\n",
              "    .dataframe thead th {\n",
              "        text-align: right;\n",
              "    }\n",
              "</style>\n",
              "<table border=\"1\" class=\"dataframe\">\n",
              "  <thead>\n",
              "    <tr style=\"text-align: right;\">\n",
              "      <th></th>\n",
              "      <th>open</th>\n",
              "      <th>high</th>\n",
              "      <th>low</th>\n",
              "      <th>close</th>\n",
              "      <th>volume</th>\n",
              "    </tr>\n",
              "  </thead>\n",
              "  <tbody>\n",
              "    <tr>\n",
              "      <th>2019-12-20</th>\n",
              "      <td>157.35</td>\n",
              "      <td>158.49</td>\n",
              "      <td>156.2900</td>\n",
              "      <td>157.41</td>\n",
              "      <td>53599613.0</td>\n",
              "    </tr>\n",
              "    <tr>\n",
              "      <th>2019-10-17</th>\n",
              "      <td>140.95</td>\n",
              "      <td>141.42</td>\n",
              "      <td>139.0200</td>\n",
              "      <td>139.69</td>\n",
              "      <td>22102797.0</td>\n",
              "    </tr>\n",
              "    <tr>\n",
              "      <th>2019-12-06</th>\n",
              "      <td>150.99</td>\n",
              "      <td>151.87</td>\n",
              "      <td>150.2700</td>\n",
              "      <td>151.75</td>\n",
              "      <td>16410400.0</td>\n",
              "    </tr>\n",
              "    <tr>\n",
              "      <th>2019-09-18</th>\n",
              "      <td>137.36</td>\n",
              "      <td>138.67</td>\n",
              "      <td>136.5299</td>\n",
              "      <td>138.52</td>\n",
              "      <td>24473386.0</td>\n",
              "    </tr>\n",
              "    <tr>\n",
              "      <th>2019-11-01</th>\n",
              "      <td>144.26</td>\n",
              "      <td>144.42</td>\n",
              "      <td>142.9650</td>\n",
              "      <td>143.72</td>\n",
              "      <td>33128366.0</td>\n",
              "    </tr>\n",
              "    <tr>\n",
              "      <th>2019-10-21</th>\n",
              "      <td>138.45</td>\n",
              "      <td>138.50</td>\n",
              "      <td>137.0100</td>\n",
              "      <td>138.43</td>\n",
              "      <td>20078066.0</td>\n",
              "    </tr>\n",
              "    <tr>\n",
              "      <th>2019-10-23</th>\n",
              "      <td>136.88</td>\n",
              "      <td>137.45</td>\n",
              "      <td>135.6100</td>\n",
              "      <td>137.24</td>\n",
              "      <td>31380309.0</td>\n",
              "    </tr>\n",
              "    <tr>\n",
              "      <th>2019-08-22</th>\n",
              "      <td>138.66</td>\n",
              "      <td>139.20</td>\n",
              "      <td>136.2900</td>\n",
              "      <td>137.78</td>\n",
              "      <td>18709662.0</td>\n",
              "    </tr>\n",
              "    <tr>\n",
              "      <th>2019-08-26</th>\n",
              "      <td>134.99</td>\n",
              "      <td>135.56</td>\n",
              "      <td>133.9000</td>\n",
              "      <td>135.45</td>\n",
              "      <td>20325271.0</td>\n",
              "    </tr>\n",
              "    <tr>\n",
              "      <th>2019-08-29</th>\n",
              "      <td>137.25</td>\n",
              "      <td>138.44</td>\n",
              "      <td>136.9100</td>\n",
              "      <td>138.12</td>\n",
              "      <td>20179716.0</td>\n",
              "    </tr>\n",
              "  </tbody>\n",
              "</table>\n",
              "</div>"
            ],
            "text/plain": [
              "              open    high       low   close      volume\n",
              "2019-12-20  157.35  158.49  156.2900  157.41  53599613.0\n",
              "2019-10-17  140.95  141.42  139.0200  139.69  22102797.0\n",
              "2019-12-06  150.99  151.87  150.2700  151.75  16410400.0\n",
              "2019-09-18  137.36  138.67  136.5299  138.52  24473386.0\n",
              "2019-11-01  144.26  144.42  142.9650  143.72  33128366.0\n",
              "2019-10-21  138.45  138.50  137.0100  138.43  20078066.0\n",
              "2019-10-23  136.88  137.45  135.6100  137.24  31380309.0\n",
              "2019-08-22  138.66  139.20  136.2900  137.78  18709662.0\n",
              "2019-08-26  134.99  135.56  133.9000  135.45  20325271.0\n",
              "2019-08-29  137.25  138.44  136.9100  138.12  20179716.0"
            ]
          },
          "metadata": {
            "tags": []
          },
          "execution_count": 103
        }
      ]
    },
    {
      "cell_type": "markdown",
      "metadata": {
        "id": "a9FahB2FxGXt",
        "colab_type": "text"
      },
      "source": [
        "## SUMMARISE DATA"
      ]
    },
    {
      "cell_type": "code",
      "metadata": {
        "id": "TbRbGGg2xCzD",
        "colab_type": "code",
        "outputId": "1f288170-03d0-4afd-f493-07e3454c215a",
        "colab": {
          "base_uri": "https://localhost:8080/",
          "height": 284
        }
      },
      "source": [
        "summary = stock.describe()\n",
        "summary"
      ],
      "execution_count": 0,
      "outputs": [
        {
          "output_type": "execute_result",
          "data": {
            "text/html": [
              "<div>\n",
              "<style scoped>\n",
              "    .dataframe tbody tr th:only-of-type {\n",
              "        vertical-align: middle;\n",
              "    }\n",
              "\n",
              "    .dataframe tbody tr th {\n",
              "        vertical-align: top;\n",
              "    }\n",
              "\n",
              "    .dataframe thead th {\n",
              "        text-align: right;\n",
              "    }\n",
              "</style>\n",
              "<table border=\"1\" class=\"dataframe\">\n",
              "  <thead>\n",
              "    <tr style=\"text-align: right;\">\n",
              "      <th></th>\n",
              "      <th>open</th>\n",
              "      <th>high</th>\n",
              "      <th>low</th>\n",
              "      <th>close</th>\n",
              "      <th>volume</th>\n",
              "    </tr>\n",
              "  </thead>\n",
              "  <tbody>\n",
              "    <tr>\n",
              "      <th>count</th>\n",
              "      <td>100.000000</td>\n",
              "      <td>100.000000</td>\n",
              "      <td>100.000000</td>\n",
              "      <td>100.000000</td>\n",
              "      <td>1.000000e+02</td>\n",
              "    </tr>\n",
              "    <tr>\n",
              "      <th>mean</th>\n",
              "      <td>144.674729</td>\n",
              "      <td>145.474387</td>\n",
              "      <td>143.594435</td>\n",
              "      <td>144.640300</td>\n",
              "      <td>2.225295e+07</td>\n",
              "    </tr>\n",
              "    <tr>\n",
              "      <th>std</th>\n",
              "      <td>7.556988</td>\n",
              "      <td>7.575409</td>\n",
              "      <td>7.811721</td>\n",
              "      <td>7.788013</td>\n",
              "      <td>6.673400e+06</td>\n",
              "    </tr>\n",
              "    <tr>\n",
              "      <th>min</th>\n",
              "      <td>134.880000</td>\n",
              "      <td>135.560000</td>\n",
              "      <td>132.800000</td>\n",
              "      <td>133.390000</td>\n",
              "      <td>7.763512e+06</td>\n",
              "    </tr>\n",
              "    <tr>\n",
              "      <th>25%</th>\n",
              "      <td>138.170000</td>\n",
              "      <td>139.062500</td>\n",
              "      <td>136.813750</td>\n",
              "      <td>137.767500</td>\n",
              "      <td>1.786383e+07</td>\n",
              "    </tr>\n",
              "    <tr>\n",
              "      <th>50%</th>\n",
              "      <td>142.265000</td>\n",
              "      <td>143.395000</td>\n",
              "      <td>141.361800</td>\n",
              "      <td>142.202500</td>\n",
              "      <td>2.115534e+07</td>\n",
              "    </tr>\n",
              "    <tr>\n",
              "      <th>75%</th>\n",
              "      <td>151.010000</td>\n",
              "      <td>151.840000</td>\n",
              "      <td>150.213750</td>\n",
              "      <td>151.155000</td>\n",
              "      <td>2.506765e+07</td>\n",
              "    </tr>\n",
              "    <tr>\n",
              "      <th>max</th>\n",
              "      <td>159.450000</td>\n",
              "      <td>160.730000</td>\n",
              "      <td>158.330000</td>\n",
              "      <td>160.620000</td>\n",
              "      <td>5.359961e+07</td>\n",
              "    </tr>\n",
              "  </tbody>\n",
              "</table>\n",
              "</div>"
            ],
            "text/plain": [
              "             open        high         low       close        volume\n",
              "count  100.000000  100.000000  100.000000  100.000000  1.000000e+02\n",
              "mean   144.674729  145.474387  143.594435  144.640300  2.225295e+07\n",
              "std      7.556988    7.575409    7.811721    7.788013  6.673400e+06\n",
              "min    134.880000  135.560000  132.800000  133.390000  7.763512e+06\n",
              "25%    138.170000  139.062500  136.813750  137.767500  1.786383e+07\n",
              "50%    142.265000  143.395000  141.361800  142.202500  2.115534e+07\n",
              "75%    151.010000  151.840000  150.213750  151.155000  2.506765e+07\n",
              "max    159.450000  160.730000  158.330000  160.620000  5.359961e+07"
            ]
          },
          "metadata": {
            "tags": []
          },
          "execution_count": 104
        }
      ]
    },
    {
      "cell_type": "markdown",
      "metadata": {
        "id": "a_YRPE95xTLR",
        "colab_type": "text"
      },
      "source": [
        "## VISUALISE DATA"
      ]
    },
    {
      "cell_type": "code",
      "metadata": {
        "id": "n8H75HrOxWRm",
        "colab_type": "code",
        "outputId": "01a4b1d9-02e2-40cb-bfdd-39c81cb75575",
        "colab": {
          "base_uri": "https://localhost:8080/",
          "height": 349
        }
      },
      "source": [
        "stock['close'].plot(figsize=(20,5), title='MSFT Daily Closing Prices'),plt.show()"
      ],
      "execution_count": 0,
      "outputs": [
        {
          "output_type": "display_data",
          "data": {
            "image/png": "[encoded data removed]",
            "text/plain": [
              "<Figure size 1440x360 with 1 Axes>"
            ]
          },
          "metadata": {
            "tags": []
          }
        },
        {
          "output_type": "execute_result",
          "data": {
            "text/plain": [
              "(<matplotlib.axes._subplots.AxesSubplot at 0x7fc1c76ec908>, None)"
            ]
          },
          "metadata": {
            "tags": []
          },
          "execution_count": 105
        }
      ]
    },
    {
      "cell_type": "markdown",
      "metadata": {
        "id": "ceFZVRbmzUyG",
        "colab_type": "text"
      },
      "source": [
        "## EXPLORING SIGNALS : SMA CROSSOVER"
      ]
    },
    {
      "cell_type": "code",
      "metadata": {
        "id": "KCI2m_auzZaP",
        "colab_type": "code",
        "outputId": "33f12385-23c0-44df-c340-57099992bfeb",
        "colab": {
          "base_uri": "https://localhost:8080/",
          "height": 349
        }
      },
      "source": [
        "stock['SMA10'] = stock['close'].rolling(10).mean()\n",
        "stock['SMA20'] = stock['close'].rolling(20).mean()\n",
        "stock[['close', 'SMA10', 'SMA20']].plot(figsize=(20,5), grid=True, title='MSFT Closing Price, SMA(10), SMA(20)'),plt.show()\n",
        "# stock # NaN because it takes mean of n period FORWARD, alphavantage issue on data importing"
      ],
      "execution_count": 0,
      "outputs": [
        {
          "output_type": "display_data",
          "data": {
            "image/png": "[encoded data removed]",
            "text/plain": [
              "<Figure size 1440x360 with 1 Axes>"
            ]
          },
          "metadata": {
            "tags": []
          }
        },
        {
          "output_type": "execute_result",
          "data": {
            "text/plain": [
              "(<matplotlib.axes._subplots.AxesSubplot at 0x7fc1c74db470>, None)"
            ]
          },
          "metadata": {
            "tags": []
          },
          "execution_count": 106
        }
      ]
    },
    {
      "cell_type": "markdown",
      "metadata": {
        "id": "17jJVuta2eFD",
        "colab_type": "text"
      },
      "source": [
        "## SORT DATA BY DATE ASCENDING & PLOT RIGHT CHART"
      ]
    },
    {
      "cell_type": "code",
      "metadata": {
        "id": "XW5aB8Hb25sq",
        "colab_type": "code",
        "outputId": "07915968-5218-4cac-9673-e16b1d6af526",
        "colab": {
          "base_uri": "https://localhost:8080/",
          "height": 195
        }
      },
      "source": [
        "stock.head()"
      ],
      "execution_count": 0,
      "outputs": [
        {
          "output_type": "execute_result",
          "data": {
            "text/html": [
              "<div>\n",
              "<style scoped>\n",
              "    .dataframe tbody tr th:only-of-type {\n",
              "        vertical-align: middle;\n",
              "    }\n",
              "\n",
              "    .dataframe tbody tr th {\n",
              "        vertical-align: top;\n",
              "    }\n",
              "\n",
              "    .dataframe thead th {\n",
              "        text-align: right;\n",
              "    }\n",
              "</style>\n",
              "<table border=\"1\" class=\"dataframe\">\n",
              "  <thead>\n",
              "    <tr style=\"text-align: right;\">\n",
              "      <th></th>\n",
              "      <th>open</th>\n",
              "      <th>high</th>\n",
              "      <th>low</th>\n",
              "      <th>close</th>\n",
              "      <th>volume</th>\n",
              "      <th>SMA10</th>\n",
              "      <th>SMA20</th>\n",
              "    </tr>\n",
              "  </thead>\n",
              "  <tbody>\n",
              "    <tr>\n",
              "      <th>2020-01-08</th>\n",
              "      <td>158.93</td>\n",
              "      <td>159.465</td>\n",
              "      <td>157.9491</td>\n",
              "      <td>159.425</td>\n",
              "      <td>7763512.0</td>\n",
              "      <td>NaN</td>\n",
              "      <td>NaN</td>\n",
              "    </tr>\n",
              "    <tr>\n",
              "      <th>2020-01-07</th>\n",
              "      <td>159.32</td>\n",
              "      <td>159.670</td>\n",
              "      <td>157.3200</td>\n",
              "      <td>157.580</td>\n",
              "      <td>21253280.0</td>\n",
              "      <td>NaN</td>\n",
              "      <td>NaN</td>\n",
              "    </tr>\n",
              "    <tr>\n",
              "      <th>2020-01-06</th>\n",
              "      <td>157.08</td>\n",
              "      <td>159.100</td>\n",
              "      <td>156.5100</td>\n",
              "      <td>159.030</td>\n",
              "      <td>20826702.0</td>\n",
              "      <td>NaN</td>\n",
              "      <td>NaN</td>\n",
              "    </tr>\n",
              "    <tr>\n",
              "      <th>2020-01-03</th>\n",
              "      <td>158.32</td>\n",
              "      <td>159.945</td>\n",
              "      <td>158.0600</td>\n",
              "      <td>158.620</td>\n",
              "      <td>21121681.0</td>\n",
              "      <td>NaN</td>\n",
              "      <td>NaN</td>\n",
              "    </tr>\n",
              "    <tr>\n",
              "      <th>2020-01-02</th>\n",
              "      <td>158.78</td>\n",
              "      <td>160.730</td>\n",
              "      <td>158.3300</td>\n",
              "      <td>160.620</td>\n",
              "      <td>22634546.0</td>\n",
              "      <td>NaN</td>\n",
              "      <td>NaN</td>\n",
              "    </tr>\n",
              "  </tbody>\n",
              "</table>\n",
              "</div>"
            ],
            "text/plain": [
              "              open     high       low    close      volume  SMA10  SMA20\n",
              "2020-01-08  158.93  159.465  157.9491  159.425   7763512.0    NaN    NaN\n",
              "2020-01-07  159.32  159.670  157.3200  157.580  21253280.0    NaN    NaN\n",
              "2020-01-06  157.08  159.100  156.5100  159.030  20826702.0    NaN    NaN\n",
              "2020-01-03  158.32  159.945  158.0600  158.620  21121681.0    NaN    NaN\n",
              "2020-01-02  158.78  160.730  158.3300  160.620  22634546.0    NaN    NaN"
            ]
          },
          "metadata": {
            "tags": []
          },
          "execution_count": 107
        }
      ]
    },
    {
      "cell_type": "code",
      "metadata": {
        "id": "8FOhUeBA2vct",
        "colab_type": "code",
        "outputId": "ec5ccb59-1be8-4d05-c63e-943aade3950f",
        "colab": {
          "base_uri": "https://localhost:8080/",
          "height": 195
        }
      },
      "source": [
        "stock = stock.sort_index(ascending=True)\n",
        "stock.head()"
      ],
      "execution_count": 0,
      "outputs": [
        {
          "output_type": "execute_result",
          "data": {
            "text/html": [
              "<div>\n",
              "<style scoped>\n",
              "    .dataframe tbody tr th:only-of-type {\n",
              "        vertical-align: middle;\n",
              "    }\n",
              "\n",
              "    .dataframe tbody tr th {\n",
              "        vertical-align: top;\n",
              "    }\n",
              "\n",
              "    .dataframe thead th {\n",
              "        text-align: right;\n",
              "    }\n",
              "</style>\n",
              "<table border=\"1\" class=\"dataframe\">\n",
              "  <thead>\n",
              "    <tr style=\"text-align: right;\">\n",
              "      <th></th>\n",
              "      <th>open</th>\n",
              "      <th>high</th>\n",
              "      <th>low</th>\n",
              "      <th>close</th>\n",
              "      <th>volume</th>\n",
              "      <th>SMA10</th>\n",
              "      <th>SMA20</th>\n",
              "    </tr>\n",
              "  </thead>\n",
              "  <tbody>\n",
              "    <tr>\n",
              "      <th>2019-08-16</th>\n",
              "      <td>134.880</td>\n",
              "      <td>136.4600</td>\n",
              "      <td>134.720</td>\n",
              "      <td>136.13</td>\n",
              "      <td>25026151.0</td>\n",
              "      <td>136.663</td>\n",
              "      <td>137.0935</td>\n",
              "    </tr>\n",
              "    <tr>\n",
              "      <th>2019-08-19</th>\n",
              "      <td>137.855</td>\n",
              "      <td>138.5500</td>\n",
              "      <td>136.885</td>\n",
              "      <td>138.41</td>\n",
              "      <td>24370543.0</td>\n",
              "      <td>136.836</td>\n",
              "      <td>137.1035</td>\n",
              "    </tr>\n",
              "    <tr>\n",
              "      <th>2019-08-20</th>\n",
              "      <td>138.210</td>\n",
              "      <td>138.7100</td>\n",
              "      <td>137.240</td>\n",
              "      <td>137.26</td>\n",
              "      <td>21188998.0</td>\n",
              "      <td>136.599</td>\n",
              "      <td>137.0525</td>\n",
              "    </tr>\n",
              "    <tr>\n",
              "      <th>2019-08-21</th>\n",
              "      <td>138.550</td>\n",
              "      <td>139.4935</td>\n",
              "      <td>138.000</td>\n",
              "      <td>138.79</td>\n",
              "      <td>14982314.0</td>\n",
              "      <td>136.636</td>\n",
              "      <td>137.1155</td>\n",
              "    </tr>\n",
              "    <tr>\n",
              "      <th>2019-08-22</th>\n",
              "      <td>138.660</td>\n",
              "      <td>139.2000</td>\n",
              "      <td>136.290</td>\n",
              "      <td>137.78</td>\n",
              "      <td>18709662.0</td>\n",
              "      <td>136.762</td>\n",
              "      <td>137.2295</td>\n",
              "    </tr>\n",
              "  </tbody>\n",
              "</table>\n",
              "</div>"
            ],
            "text/plain": [
              "               open      high      low   close      volume    SMA10     SMA20\n",
              "2019-08-16  134.880  136.4600  134.720  136.13  25026151.0  136.663  137.0935\n",
              "2019-08-19  137.855  138.5500  136.885  138.41  24370543.0  136.836  137.1035\n",
              "2019-08-20  138.210  138.7100  137.240  137.26  21188998.0  136.599  137.0525\n",
              "2019-08-21  138.550  139.4935  138.000  138.79  14982314.0  136.636  137.1155\n",
              "2019-08-22  138.660  139.2000  136.290  137.78  18709662.0  136.762  137.2295"
            ]
          },
          "metadata": {
            "tags": []
          },
          "execution_count": 108
        }
      ]
    },
    {
      "cell_type": "code",
      "metadata": {
        "id": "sttH2MnG3KNW",
        "colab_type": "code",
        "outputId": "23cee39d-e090-4f61-f1c8-b4665318afd2",
        "colab": {
          "base_uri": "https://localhost:8080/",
          "height": 349
        }
      },
      "source": [
        "# Need to recalculate SMA\n",
        "\n",
        "stock['SMA10'] = stock['close'].rolling(10).mean()\n",
        "stock['SMA20'] = stock['close'].rolling(20).mean()\n",
        "stock[['close', 'SMA10','SMA20']].plot(figsize=(20,5), grid=True, title='MSFT Closing Price, SMA(10), SMA(20)'),plt.show()"
      ],
      "execution_count": 0,
      "outputs": [
        {
          "output_type": "display_data",
          "data": {
            "image/png": "[encoded data removed]",
            "text/plain": [
              "<Figure size 1440x360 with 1 Axes>"
            ]
          },
          "metadata": {
            "tags": []
          }
        },
        {
          "output_type": "execute_result",
          "data": {
            "text/plain": [
              "(<matplotlib.axes._subplots.AxesSubplot at 0x7fc1c745aeb8>, None)"
            ]
          },
          "metadata": {
            "tags": []
          },
          "execution_count": 109
        }
      ]
    },
    {
      "cell_type": "code",
      "metadata": {
        "id": "_GRdJQ2D3_u-",
        "colab_type": "code",
        "outputId": "35d5f32b-6fb8-44d3-c9d2-a0d8438839e9",
        "colab": {
          "base_uri": "https://localhost:8080/",
          "height": 195
        }
      },
      "source": [
        "stock.head()"
      ],
      "execution_count": 0,
      "outputs": [
        {
          "output_type": "execute_result",
          "data": {
            "text/html": [
              "<div>\n",
              "<style scoped>\n",
              "    .dataframe tbody tr th:only-of-type {\n",
              "        vertical-align: middle;\n",
              "    }\n",
              "\n",
              "    .dataframe tbody tr th {\n",
              "        vertical-align: top;\n",
              "    }\n",
              "\n",
              "    .dataframe thead th {\n",
              "        text-align: right;\n",
              "    }\n",
              "</style>\n",
              "<table border=\"1\" class=\"dataframe\">\n",
              "  <thead>\n",
              "    <tr style=\"text-align: right;\">\n",
              "      <th></th>\n",
              "      <th>open</th>\n",
              "      <th>high</th>\n",
              "      <th>low</th>\n",
              "      <th>close</th>\n",
              "      <th>volume</th>\n",
              "      <th>SMA10</th>\n",
              "      <th>SMA20</th>\n",
              "    </tr>\n",
              "  </thead>\n",
              "  <tbody>\n",
              "    <tr>\n",
              "      <th>2019-08-16</th>\n",
              "      <td>134.880</td>\n",
              "      <td>136.4600</td>\n",
              "      <td>134.720</td>\n",
              "      <td>136.13</td>\n",
              "      <td>25026151.0</td>\n",
              "      <td>NaN</td>\n",
              "      <td>NaN</td>\n",
              "    </tr>\n",
              "    <tr>\n",
              "      <th>2019-08-19</th>\n",
              "      <td>137.855</td>\n",
              "      <td>138.5500</td>\n",
              "      <td>136.885</td>\n",
              "      <td>138.41</td>\n",
              "      <td>24370543.0</td>\n",
              "      <td>NaN</td>\n",
              "      <td>NaN</td>\n",
              "    </tr>\n",
              "    <tr>\n",
              "      <th>2019-08-20</th>\n",
              "      <td>138.210</td>\n",
              "      <td>138.7100</td>\n",
              "      <td>137.240</td>\n",
              "      <td>137.26</td>\n",
              "      <td>21188998.0</td>\n",
              "      <td>NaN</td>\n",
              "      <td>NaN</td>\n",
              "    </tr>\n",
              "    <tr>\n",
              "      <th>2019-08-21</th>\n",
              "      <td>138.550</td>\n",
              "      <td>139.4935</td>\n",
              "      <td>138.000</td>\n",
              "      <td>138.79</td>\n",
              "      <td>14982314.0</td>\n",
              "      <td>NaN</td>\n",
              "      <td>NaN</td>\n",
              "    </tr>\n",
              "    <tr>\n",
              "      <th>2019-08-22</th>\n",
              "      <td>138.660</td>\n",
              "      <td>139.2000</td>\n",
              "      <td>136.290</td>\n",
              "      <td>137.78</td>\n",
              "      <td>18709662.0</td>\n",
              "      <td>NaN</td>\n",
              "      <td>NaN</td>\n",
              "    </tr>\n",
              "  </tbody>\n",
              "</table>\n",
              "</div>"
            ],
            "text/plain": [
              "               open      high      low   close      volume  SMA10  SMA20\n",
              "2019-08-16  134.880  136.4600  134.720  136.13  25026151.0    NaN    NaN\n",
              "2019-08-19  137.855  138.5500  136.885  138.41  24370543.0    NaN    NaN\n",
              "2019-08-20  138.210  138.7100  137.240  137.26  21188998.0    NaN    NaN\n",
              "2019-08-21  138.550  139.4935  138.000  138.79  14982314.0    NaN    NaN\n",
              "2019-08-22  138.660  139.2000  136.290  137.78  18709662.0    NaN    NaN"
            ]
          },
          "metadata": {
            "tags": []
          },
          "execution_count": 110
        }
      ]
    },
    {
      "cell_type": "markdown",
      "metadata": {
        "id": "1ppkHd1a4MTS",
        "colab_type": "text"
      },
      "source": [
        "## REMOVE NaN"
      ]
    },
    {
      "cell_type": "code",
      "metadata": {
        "id": "unzBHkZ54S2E",
        "colab_type": "code",
        "outputId": "d2fe534c-8ea5-4530-f585-ee882cb2e24c",
        "colab": {
          "base_uri": "https://localhost:8080/",
          "height": 450
        }
      },
      "source": [
        "stock.dropna(inplace=True)\n",
        "print(stock.head())\n",
        "stock[['close', 'SMA10','SMA20']].plot(figsize=(20,5), grid=True, title='MSFT Closing Price, SMA(10), SMA(20)'),plt.show()"
      ],
      "execution_count": 0,
      "outputs": [
        {
          "output_type": "stream",
          "text": [
            "              open    high       low   close      volume    SMA10     SMA20\n",
            "2019-09-13  137.78  138.06  136.5700  137.32  23363057.0  137.524  137.0935\n",
            "2019-09-16  135.83  136.70  135.6600  136.33  16731440.0  137.371  137.1035\n",
            "2019-09-17  136.96  137.52  136.4250  137.39  17976285.0  137.506  137.0525\n",
            "2019-09-18  137.36  138.67  136.5299  138.52  24473386.0  137.595  137.1155\n",
            "2019-09-19  140.30  142.37  140.0736  141.07  36095413.0  137.697  137.2295\n"
          ],
          "name": "stdout"
        },
        {
          "output_type": "display_data",
          "data": {
            "image/png": "[encoded data removed]",
            "text/plain": [
              "<Figure size 1440x360 with 1 Axes>"
            ]
          },
          "metadata": {
            "tags": []
          }
        },
        {
          "output_type": "execute_result",
          "data": {
            "text/plain": [
              "(<matplotlib.axes._subplots.AxesSubplot at 0x7fc1c75fb588>, None)"
            ]
          },
          "metadata": {
            "tags": []
          },
          "execution_count": 111
        }
      ]
    },
    {
      "cell_type": "markdown",
      "metadata": {
        "id": "L_h7bAQzLvLE",
        "colab_type": "text"
      },
      "source": [
        "## EVALUATING SIGNAL : Using Information Coefficient & Spearman Correlation"
      ]
    },
    {
      "cell_type": "code",
      "metadata": {
        "id": "t1RTUj6uBuaY",
        "colab_type": "code",
        "outputId": "48b7827a-9c88-4494-83fe-65068b982e7f",
        "colab": {
          "base_uri": "https://localhost:8080/",
          "height": 195
        }
      },
      "source": [
        "# get sma10 & sma20 difference value\n",
        "\n",
        "signal = pd.DataFrame()\n",
        "signal['crossover'] = stock['SMA10'] - stock['SMA20']\n",
        "signal.tail()"
      ],
      "execution_count": 0,
      "outputs": [
        {
          "output_type": "execute_result",
          "data": {
            "text/html": [
              "<div>\n",
              "<style scoped>\n",
              "    .dataframe tbody tr th:only-of-type {\n",
              "        vertical-align: middle;\n",
              "    }\n",
              "\n",
              "    .dataframe tbody tr th {\n",
              "        vertical-align: top;\n",
              "    }\n",
              "\n",
              "    .dataframe thead th {\n",
              "        text-align: right;\n",
              "    }\n",
              "</style>\n",
              "<table border=\"1\" class=\"dataframe\">\n",
              "  <thead>\n",
              "    <tr style=\"text-align: right;\">\n",
              "      <th></th>\n",
              "      <th>crossover</th>\n",
              "    </tr>\n",
              "  </thead>\n",
              "  <tbody>\n",
              "    <tr>\n",
              "      <th>2020-01-02</th>\n",
              "      <td>2.60550</td>\n",
              "    </tr>\n",
              "    <tr>\n",
              "      <th>2020-01-03</th>\n",
              "      <td>2.59200</td>\n",
              "    </tr>\n",
              "    <tr>\n",
              "      <th>2020-01-06</th>\n",
              "      <td>2.46900</td>\n",
              "    </tr>\n",
              "    <tr>\n",
              "      <th>2020-01-07</th>\n",
              "      <td>2.19450</td>\n",
              "    </tr>\n",
              "    <tr>\n",
              "      <th>2020-01-08</th>\n",
              "      <td>1.99275</td>\n",
              "    </tr>\n",
              "  </tbody>\n",
              "</table>\n",
              "</div>"
            ],
            "text/plain": [
              "            crossover\n",
              "2020-01-02    2.60550\n",
              "2020-01-03    2.59200\n",
              "2020-01-06    2.46900\n",
              "2020-01-07    2.19450\n",
              "2020-01-08    1.99275"
            ]
          },
          "metadata": {
            "tags": []
          },
          "execution_count": 112
        }
      ]
    },
    {
      "cell_type": "code",
      "metadata": {
        "id": "-KksrQ1dMU96",
        "colab_type": "code",
        "outputId": "5ad13801-0940-4bd4-9ba3-dbe22346a43f",
        "colab": {
          "base_uri": "https://localhost:8080/",
          "height": 195
        }
      },
      "source": [
        "# join the crossover table to our main table\n",
        "\n",
        "stock = stock.join(signal, how='left')\n",
        "stock.tail()"
      ],
      "execution_count": 0,
      "outputs": [
        {
          "output_type": "execute_result",
          "data": {
            "text/html": [
              "<div>\n",
              "<style scoped>\n",
              "    .dataframe tbody tr th:only-of-type {\n",
              "        vertical-align: middle;\n",
              "    }\n",
              "\n",
              "    .dataframe tbody tr th {\n",
              "        vertical-align: top;\n",
              "    }\n",
              "\n",
              "    .dataframe thead th {\n",
              "        text-align: right;\n",
              "    }\n",
              "</style>\n",
              "<table border=\"1\" class=\"dataframe\">\n",
              "  <thead>\n",
              "    <tr style=\"text-align: right;\">\n",
              "      <th></th>\n",
              "      <th>open</th>\n",
              "      <th>high</th>\n",
              "      <th>low</th>\n",
              "      <th>close</th>\n",
              "      <th>volume</th>\n",
              "      <th>SMA10</th>\n",
              "      <th>SMA20</th>\n",
              "      <th>crossover</th>\n",
              "    </tr>\n",
              "  </thead>\n",
              "  <tbody>\n",
              "    <tr>\n",
              "      <th>2020-01-02</th>\n",
              "      <td>158.78</td>\n",
              "      <td>160.730</td>\n",
              "      <td>158.3300</td>\n",
              "      <td>160.620</td>\n",
              "      <td>22634546.0</td>\n",
              "      <td>157.5820</td>\n",
              "      <td>154.97650</td>\n",
              "      <td>2.60550</td>\n",
              "    </tr>\n",
              "    <tr>\n",
              "      <th>2020-01-03</th>\n",
              "      <td>158.32</td>\n",
              "      <td>159.945</td>\n",
              "      <td>158.0600</td>\n",
              "      <td>158.620</td>\n",
              "      <td>21121681.0</td>\n",
              "      <td>158.0070</td>\n",
              "      <td>155.41500</td>\n",
              "      <td>2.59200</td>\n",
              "    </tr>\n",
              "    <tr>\n",
              "      <th>2020-01-06</th>\n",
              "      <td>157.08</td>\n",
              "      <td>159.100</td>\n",
              "      <td>156.5100</td>\n",
              "      <td>159.030</td>\n",
              "      <td>20826702.0</td>\n",
              "      <td>158.3390</td>\n",
              "      <td>155.87000</td>\n",
              "      <td>2.46900</td>\n",
              "    </tr>\n",
              "    <tr>\n",
              "      <th>2020-01-07</th>\n",
              "      <td>159.32</td>\n",
              "      <td>159.670</td>\n",
              "      <td>157.3200</td>\n",
              "      <td>157.580</td>\n",
              "      <td>21253280.0</td>\n",
              "      <td>158.3560</td>\n",
              "      <td>156.16150</td>\n",
              "      <td>2.19450</td>\n",
              "    </tr>\n",
              "    <tr>\n",
              "      <th>2020-01-08</th>\n",
              "      <td>158.93</td>\n",
              "      <td>159.465</td>\n",
              "      <td>157.9491</td>\n",
              "      <td>159.425</td>\n",
              "      <td>7763512.0</td>\n",
              "      <td>158.5575</td>\n",
              "      <td>156.56475</td>\n",
              "      <td>1.99275</td>\n",
              "    </tr>\n",
              "  </tbody>\n",
              "</table>\n",
              "</div>"
            ],
            "text/plain": [
              "              open     high       low  ...     SMA10      SMA20  crossover\n",
              "2020-01-02  158.78  160.730  158.3300  ...  157.5820  154.97650    2.60550\n",
              "2020-01-03  158.32  159.945  158.0600  ...  158.0070  155.41500    2.59200\n",
              "2020-01-06  157.08  159.100  156.5100  ...  158.3390  155.87000    2.46900\n",
              "2020-01-07  159.32  159.670  157.3200  ...  158.3560  156.16150    2.19450\n",
              "2020-01-08  158.93  159.465  157.9491  ...  158.5575  156.56475    1.99275\n",
              "\n",
              "[5 rows x 8 columns]"
            ]
          },
          "metadata": {
            "tags": []
          },
          "execution_count": 113
        }
      ]
    },
    {
      "cell_type": "code",
      "metadata": {
        "id": "c1RdaAQpNegs",
        "colab_type": "code",
        "outputId": "e54ceb8d-d4f7-451b-a613-b8dcf85f506c",
        "colab": {
          "base_uri": "https://localhost:8080/",
          "height": 195
        }
      },
      "source": [
        "# calculate stock closing price difference from the previous 1 day\n",
        "\n",
        "signal['close-close']=stock['close'].diff(periods=1)\n",
        "signal.head()"
      ],
      "execution_count": 0,
      "outputs": [
        {
          "output_type": "execute_result",
          "data": {
            "text/html": [
              "<div>\n",
              "<style scoped>\n",
              "    .dataframe tbody tr th:only-of-type {\n",
              "        vertical-align: middle;\n",
              "    }\n",
              "\n",
              "    .dataframe tbody tr th {\n",
              "        vertical-align: top;\n",
              "    }\n",
              "\n",
              "    .dataframe thead th {\n",
              "        text-align: right;\n",
              "    }\n",
              "</style>\n",
              "<table border=\"1\" class=\"dataframe\">\n",
              "  <thead>\n",
              "    <tr style=\"text-align: right;\">\n",
              "      <th></th>\n",
              "      <th>crossover</th>\n",
              "      <th>close-close</th>\n",
              "    </tr>\n",
              "  </thead>\n",
              "  <tbody>\n",
              "    <tr>\n",
              "      <th>2019-09-13</th>\n",
              "      <td>0.4305</td>\n",
              "      <td>NaN</td>\n",
              "    </tr>\n",
              "    <tr>\n",
              "      <th>2019-09-16</th>\n",
              "      <td>0.2675</td>\n",
              "      <td>-0.99</td>\n",
              "    </tr>\n",
              "    <tr>\n",
              "      <th>2019-09-17</th>\n",
              "      <td>0.4535</td>\n",
              "      <td>1.06</td>\n",
              "    </tr>\n",
              "    <tr>\n",
              "      <th>2019-09-18</th>\n",
              "      <td>0.4795</td>\n",
              "      <td>1.13</td>\n",
              "    </tr>\n",
              "    <tr>\n",
              "      <th>2019-09-19</th>\n",
              "      <td>0.4675</td>\n",
              "      <td>2.55</td>\n",
              "    </tr>\n",
              "  </tbody>\n",
              "</table>\n",
              "</div>"
            ],
            "text/plain": [
              "            crossover  close-close\n",
              "2019-09-13     0.4305          NaN\n",
              "2019-09-16     0.2675        -0.99\n",
              "2019-09-17     0.4535         1.06\n",
              "2019-09-18     0.4795         1.13\n",
              "2019-09-19     0.4675         2.55"
            ]
          },
          "metadata": {
            "tags": []
          },
          "execution_count": 114
        }
      ]
    },
    {
      "cell_type": "code",
      "metadata": {
        "id": "mqh5E-eXQElW",
        "colab_type": "code",
        "outputId": "d704fc59-d148-4d9f-cafb-07cb3e67081a",
        "colab": {
          "base_uri": "https://localhost:8080/",
          "height": 218
        }
      },
      "source": [
        "# finding momentum signal. return true if signal exist, false if not \n",
        "\n",
        "signal.dropna(inplace=True) # inplace=True will remove the row that has NaN value entirely. False will keep the row and change the NaN value\n",
        "quality = (signal['crossover'] > 0) & (signal['close-close'] > 0) | (signal['crossover'] < 0) & (signal['close-close'] < 0) # definition of signal : buy if (price increase & sma10 > sma20) . sell if (price  decrease & sma10 < sma20)\n",
        "display(quality.head())\n",
        "\n",
        "# convert quality from boolean to integer\n",
        "quality = quality.astype(int)\n",
        "quality.head()\n"
      ],
      "execution_count": 0,
      "outputs": [
        {
          "output_type": "display_data",
          "data": {
            "text/plain": [
              "2019-09-16    False\n",
              "2019-09-17     True\n",
              "2019-09-18     True\n",
              "2019-09-19     True\n",
              "2019-09-20    False\n",
              "dtype: bool"
            ]
          },
          "metadata": {
            "tags": []
          }
        },
        {
          "output_type": "execute_result",
          "data": {
            "text/plain": [
              "2019-09-16    0\n",
              "2019-09-17    1\n",
              "2019-09-18    1\n",
              "2019-09-19    1\n",
              "2019-09-20    0\n",
              "dtype: int64"
            ]
          },
          "metadata": {
            "tags": []
          },
          "execution_count": 115
        }
      ]
    },
    {
      "cell_type": "code",
      "metadata": {
        "id": "YwheV-7DU-fX",
        "colab_type": "code",
        "outputId": "9cfd3bcd-39bc-4294-cd58-5efac89bd5b1",
        "colab": {
          "base_uri": "https://localhost:8080/",
          "height": 50
        }
      },
      "source": [
        "# calculating information coefficient : https://www.investopedia.com/terms/i/information-coefficient.asp\n",
        "\n",
        "proportion_correct = quality.sum()/quality.count()\n",
        "display(proportion_correct)\n",
        "\n",
        "information_coefficient = 2*proportion_correct - 1\n",
        "information_coefficient # +1 good, -1 bad\n",
        "\n"
      ],
      "execution_count": 0,
      "outputs": [
        {
          "output_type": "display_data",
          "data": {
            "text/plain": [
              "0.5875"
            ]
          },
          "metadata": {
            "tags": []
          }
        },
        {
          "output_type": "execute_result",
          "data": {
            "text/plain": [
              "0.17500000000000004"
            ]
          },
          "metadata": {
            "tags": []
          },
          "execution_count": 116
        }
      ]
    },
    {
      "cell_type": "code",
      "metadata": {
        "id": "ZzyaaizouP3R",
        "colab_type": "code",
        "outputId": "4fc77669-5fb9-4935-aeb4-01e5fb87a7a7",
        "colab": {
          "base_uri": "https://localhost:8080/",
          "height": 106
        }
      },
      "source": [
        "# spearman correlation (why not pearson tho ?)\n",
        "\n",
        "signal.corr(method='spearman')"
      ],
      "execution_count": 0,
      "outputs": [
        {
          "output_type": "execute_result",
          "data": {
            "text/html": [
              "<div>\n",
              "<style scoped>\n",
              "    .dataframe tbody tr th:only-of-type {\n",
              "        vertical-align: middle;\n",
              "    }\n",
              "\n",
              "    .dataframe tbody tr th {\n",
              "        vertical-align: top;\n",
              "    }\n",
              "\n",
              "    .dataframe thead th {\n",
              "        text-align: right;\n",
              "    }\n",
              "</style>\n",
              "<table border=\"1\" class=\"dataframe\">\n",
              "  <thead>\n",
              "    <tr style=\"text-align: right;\">\n",
              "      <th></th>\n",
              "      <th>crossover</th>\n",
              "      <th>close-close</th>\n",
              "    </tr>\n",
              "  </thead>\n",
              "  <tbody>\n",
              "    <tr>\n",
              "      <th>crossover</th>\n",
              "      <td>1.000000</td>\n",
              "      <td>0.007361</td>\n",
              "    </tr>\n",
              "    <tr>\n",
              "      <th>close-close</th>\n",
              "      <td>0.007361</td>\n",
              "      <td>1.000000</td>\n",
              "    </tr>\n",
              "  </tbody>\n",
              "</table>\n",
              "</div>"
            ],
            "text/plain": [
              "             crossover  close-close\n",
              "crossover     1.000000     0.007361\n",
              "close-close   0.007361     1.000000"
            ]
          },
          "metadata": {
            "tags": []
          },
          "execution_count": 117
        }
      ]
    }
  ]
}