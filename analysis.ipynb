{
  "nbformat": 4,
  "nbformat_minor": 0,
  "metadata": {
    "colab": {
      "name": "analysis.ipynb",
      "provenance": [],
      "collapsed_sections": [],
      "include_colab_link": true
    },
    "kernelspec": {
      "name": "python3",
      "display_name": "Python 3"
    }
  },
  "cells": [
    {
      "cell_type": "markdown",
      "metadata": {
        "id": "view-in-github",
        "colab_type": "text"
      },
      "source": [
        "<a href=\"https://colab.research.google.com/github/dwihdyn/algo-trading/blob/master/analysis.ipynb\" target=\"_parent\"><img src=\"https://colab.research.google.com/assets/colab-badge.svg\" alt=\"Open In Colab\"/></a>"
      ]
    },
    {
      "cell_type": "markdown",
      "metadata": {
        "id": "JK2esIsApg0a",
        "colab_type": "text"
      },
      "source": [
        "**Reference : https://www.oreilly.com/library/view/hands-on-algorithmic-trading/9781492082637/** \n",
        "\n",
        "Module 2 : Strategy Analysis\n",
        "\n",
        "Summary :\n",
        "1.   Get Stock price from alphavantage API\n",
        "2.   Rename data column\n",
        "3.   Convert prices from string to float\n",
        "4.   Convert the index to date\n",
        "5.   Visualise data in time series\n",
        "6.   Create & calculate SMA10 & SMA20\n",
        "7.   Sort the data with the date, ascending order\n",
        "8.   Recalculate SMA10 & SMA20 due to sort data\n",
        "9.   Remove any NaN values in SMA10 & SMA20\n",
        "10.  Strategy evaluation using Information & Spearman correlation\n"
      ]
    },
    {
      "cell_type": "markdown",
      "metadata": {
        "id": "lT-Ncy5Xojpy",
        "colab_type": "text"
      },
      "source": [
        "***IMPORT MODULES***"
      ]
    },
    {
      "cell_type": "code",
      "metadata": {
        "id": "MLwTJO78oGg6",
        "colab_type": "code",
        "colab": {}
      },
      "source": [
        "import pandas as pd\n",
        "import pandas_datareader as pdr\n",
        "from datetime import datetime\n",
        "import matplotlib.pyplot as plt\n",
        "plt.style.use('seaborn')\n",
        "import requests\n",
        "import json"
      ],
      "execution_count": 0,
      "outputs": []
    },
    {
      "cell_type": "markdown",
      "metadata": {
        "id": "SJ3aPuNypIc3",
        "colab_type": "text"
      },
      "source": [
        "***IMPORT MSFT DATA FROM ALPHAVANTAGE***"
      ]
    },
    {
      "cell_type": "code",
      "metadata": {
        "id": "PHfC2qUXpPJs",
        "colab_type": "code",
        "outputId": "ac7f19cd-cd16-47f8-979e-aa8b44f0ede2",
        "colab": {
          "base_uri": "https://localhost:8080/",
          "height": 34
        }
      },
      "source": [
        "response = requests.get(\"https://www.alphavantage.co/query?function=TIME_SERIES_DAILY&symbol=MSFT&apikey=RKKWDNO3XD91IUBZ\")\n",
        "alphadict = json.loads(response.text)\n",
        "alphadict.keys()"
      ],
      "execution_count": 79,
      "outputs": [
        {
          "output_type": "execute_result",
          "data": {
            "text/plain": [
              "dict_keys(['Meta Data', 'Time Series (Daily)'])"
            ]
          },
          "metadata": {
            "tags": []
          },
          "execution_count": 79
        }
      ]
    },
    {
      "cell_type": "code",
      "metadata": {
        "id": "e2Hdi1PfqfFa",
        "colab_type": "code",
        "outputId": "3a0d4658-69a0-4211-9aa9-ca66250afc68",
        "colab": {
          "base_uri": "https://localhost:8080/",
          "height": 185
        }
      },
      "source": [
        "stock = pd.DataFrame(alphadict['Time Series (Daily)']).T\n",
        "stock.info()"
      ],
      "execution_count": 80,
      "outputs": [
        {
          "output_type": "stream",
          "text": [
            "<class 'pandas.core.frame.DataFrame'>\n",
            "Index: 100 entries, 2020-01-07 to 2019-08-15\n",
            "Data columns (total 5 columns):\n",
            "1. open      100 non-null object\n",
            "2. high      100 non-null object\n",
            "3. low       100 non-null object\n",
            "4. close     100 non-null object\n",
            "5. volume    100 non-null object\n",
            "dtypes: object(5)\n",
            "memory usage: 4.7+ KB\n"
          ],
          "name": "stdout"
        }
      ]
    },
    {
      "cell_type": "markdown",
      "metadata": {
        "id": "3TKT5_FErxBI",
        "colab_type": "text"
      },
      "source": [
        "***RENAME THE (BAD) NAMING COLUMN ['1. open', ...] -> ['open', ...]***\n"
      ]
    },
    {
      "cell_type": "code",
      "metadata": {
        "id": "02ndE0mJrg0L",
        "colab_type": "code",
        "outputId": "c0723445-3ad8-4219-ba64-4009fae2a20d",
        "colab": {
          "base_uri": "https://localhost:8080/",
          "height": 34
        }
      },
      "source": [
        "stock.columns"
      ],
      "execution_count": 81,
      "outputs": [
        {
          "output_type": "execute_result",
          "data": {
            "text/plain": [
              "Index(['1. open', '2. high', '3. low', '4. close', '5. volume'], dtype='object')"
            ]
          },
          "metadata": {
            "tags": []
          },
          "execution_count": 81
        }
      ]
    },
    {
      "cell_type": "code",
      "metadata": {
        "id": "LcJsTmS6sF2g",
        "colab_type": "code",
        "outputId": "0b6e0209-70fa-43b8-f00a-534e766f7eef",
        "colab": {
          "base_uri": "https://localhost:8080/",
          "height": 34
        }
      },
      "source": [
        "stock.columns = ['open', 'high', 'low', 'close', 'volume']\n",
        "stock.columns"
      ],
      "execution_count": 82,
      "outputs": [
        {
          "output_type": "execute_result",
          "data": {
            "text/plain": [
              "Index(['open', 'high', 'low', 'close', 'volume'], dtype='object')"
            ]
          },
          "metadata": {
            "tags": []
          },
          "execution_count": 82
        }
      ]
    },
    {
      "cell_type": "markdown",
      "metadata": {
        "id": "PClGFd7zsgtI",
        "colab_type": "text"
      },
      "source": [
        "***CONVERT PRICES FROM STRING TO FLOAT***"
      ]
    },
    {
      "cell_type": "code",
      "metadata": {
        "id": "PojaTrznsWQk",
        "colab_type": "code",
        "outputId": "4999d39c-f5fb-48ab-a539-bdb9d4cfe0d9",
        "colab": {
          "base_uri": "https://localhost:8080/",
          "height": 34
        }
      },
      "source": [
        "stock = stock.astype(float)\n",
        "type(stock['close'][1])"
      ],
      "execution_count": 83,
      "outputs": [
        {
          "output_type": "execute_result",
          "data": {
            "text/plain": [
              "numpy.float64"
            ]
          },
          "metadata": {
            "tags": []
          },
          "execution_count": 83
        }
      ]
    },
    {
      "cell_type": "markdown",
      "metadata": {
        "id": "o9ejOEtVtPkO",
        "colab_type": "text"
      },
      "source": [
        "***CONVERT THE INDEX TO DATE***"
      ]
    },
    {
      "cell_type": "code",
      "metadata": {
        "id": "VAFDLdGGtWXq",
        "colab_type": "code",
        "outputId": "e5d9e061-e7ff-42fb-d2fc-1b34ac2312f1",
        "colab": {
          "base_uri": "https://localhost:8080/",
          "height": 34
        }
      },
      "source": [
        "# type(stock.index) # check that its index\n",
        "stock.index = pd.to_datetime(stock.index)\n",
        "type(stock.index) # now check that now is date"
      ],
      "execution_count": 84,
      "outputs": [
        {
          "output_type": "execute_result",
          "data": {
            "text/plain": [
              "pandas.core.indexes.datetimes.DatetimeIndex"
            ]
          },
          "metadata": {
            "tags": []
          },
          "execution_count": 84
        }
      ]
    },
    {
      "cell_type": "markdown",
      "metadata": {
        "id": "SIxRrPVrwCpP",
        "colab_type": "text"
      },
      "source": [
        "\n",
        "***SHOW 10 SAMPLE DATA BY RANDOM***\n"
      ]
    },
    {
      "cell_type": "code",
      "metadata": {
        "id": "NFc6FK00un7B",
        "colab_type": "code",
        "outputId": "2d58c6a4-4d58-48a5-d8c5-b68c1c48e6c9",
        "colab": {
          "base_uri": "https://localhost:8080/",
          "height": 343
        }
      },
      "source": [
        "sample = stock.sample(10)\n",
        "sample"
      ],
      "execution_count": 85,
      "outputs": [
        {
          "output_type": "execute_result",
          "data": {
            "text/html": [
              "<div>\n",
              "<style scoped>\n",
              "    .dataframe tbody tr th:only-of-type {\n",
              "        vertical-align: middle;\n",
              "    }\n",
              "\n",
              "    .dataframe tbody tr th {\n",
              "        vertical-align: top;\n",
              "    }\n",
              "\n",
              "    .dataframe thead th {\n",
              "        text-align: right;\n",
              "    }\n",
              "</style>\n",
              "<table border=\"1\" class=\"dataframe\">\n",
              "  <thead>\n",
              "    <tr style=\"text-align: right;\">\n",
              "      <th></th>\n",
              "      <th>open</th>\n",
              "      <th>high</th>\n",
              "      <th>low</th>\n",
              "      <th>close</th>\n",
              "      <th>volume</th>\n",
              "    </tr>\n",
              "  </thead>\n",
              "  <tbody>\n",
              "    <tr>\n",
              "      <th>2019-10-31</th>\n",
              "      <td>144.900</td>\n",
              "      <td>144.93</td>\n",
              "      <td>142.9900</td>\n",
              "      <td>143.37</td>\n",
              "      <td>24605135.0</td>\n",
              "    </tr>\n",
              "    <tr>\n",
              "      <th>2019-11-29</th>\n",
              "      <td>152.100</td>\n",
              "      <td>152.30</td>\n",
              "      <td>151.2800</td>\n",
              "      <td>151.38</td>\n",
              "      <td>11977300.0</td>\n",
              "    </tr>\n",
              "    <tr>\n",
              "      <th>2019-10-07</th>\n",
              "      <td>137.140</td>\n",
              "      <td>138.18</td>\n",
              "      <td>137.0200</td>\n",
              "      <td>137.12</td>\n",
              "      <td>16601284.0</td>\n",
              "    </tr>\n",
              "    <tr>\n",
              "      <th>2019-12-05</th>\n",
              "      <td>150.050</td>\n",
              "      <td>150.32</td>\n",
              "      <td>149.4800</td>\n",
              "      <td>149.93</td>\n",
              "      <td>17880601.0</td>\n",
              "    </tr>\n",
              "    <tr>\n",
              "      <th>2019-11-14</th>\n",
              "      <td>147.020</td>\n",
              "      <td>148.41</td>\n",
              "      <td>147.0000</td>\n",
              "      <td>148.06</td>\n",
              "      <td>19755100.0</td>\n",
              "    </tr>\n",
              "    <tr>\n",
              "      <th>2019-08-19</th>\n",
              "      <td>137.855</td>\n",
              "      <td>138.55</td>\n",
              "      <td>136.8850</td>\n",
              "      <td>138.41</td>\n",
              "      <td>24370543.0</td>\n",
              "    </tr>\n",
              "    <tr>\n",
              "      <th>2019-09-18</th>\n",
              "      <td>137.360</td>\n",
              "      <td>138.67</td>\n",
              "      <td>136.5299</td>\n",
              "      <td>138.52</td>\n",
              "      <td>24473386.0</td>\n",
              "    </tr>\n",
              "    <tr>\n",
              "      <th>2019-10-14</th>\n",
              "      <td>139.690</td>\n",
              "      <td>140.29</td>\n",
              "      <td>139.5200</td>\n",
              "      <td>139.55</td>\n",
              "      <td>13591639.0</td>\n",
              "    </tr>\n",
              "    <tr>\n",
              "      <th>2019-12-23</th>\n",
              "      <td>158.120</td>\n",
              "      <td>158.12</td>\n",
              "      <td>157.2700</td>\n",
              "      <td>157.41</td>\n",
              "      <td>17726283.0</td>\n",
              "    </tr>\n",
              "    <tr>\n",
              "      <th>2019-10-30</th>\n",
              "      <td>143.520</td>\n",
              "      <td>145.00</td>\n",
              "      <td>142.7900</td>\n",
              "      <td>144.61</td>\n",
              "      <td>18496591.0</td>\n",
              "    </tr>\n",
              "  </tbody>\n",
              "</table>\n",
              "</div>"
            ],
            "text/plain": [
              "               open    high       low   close      volume\n",
              "2019-10-31  144.900  144.93  142.9900  143.37  24605135.0\n",
              "2019-11-29  152.100  152.30  151.2800  151.38  11977300.0\n",
              "2019-10-07  137.140  138.18  137.0200  137.12  16601284.0\n",
              "2019-12-05  150.050  150.32  149.4800  149.93  17880601.0\n",
              "2019-11-14  147.020  148.41  147.0000  148.06  19755100.0\n",
              "2019-08-19  137.855  138.55  136.8850  138.41  24370543.0\n",
              "2019-09-18  137.360  138.67  136.5299  138.52  24473386.0\n",
              "2019-10-14  139.690  140.29  139.5200  139.55  13591639.0\n",
              "2019-12-23  158.120  158.12  157.2700  157.41  17726283.0\n",
              "2019-10-30  143.520  145.00  142.7900  144.61  18496591.0"
            ]
          },
          "metadata": {
            "tags": []
          },
          "execution_count": 85
        }
      ]
    },
    {
      "cell_type": "markdown",
      "metadata": {
        "id": "a9FahB2FxGXt",
        "colab_type": "text"
      },
      "source": [
        "***SUMMARISE DATA***"
      ]
    },
    {
      "cell_type": "code",
      "metadata": {
        "id": "TbRbGGg2xCzD",
        "colab_type": "code",
        "outputId": "463685b7-0412-4d6b-c289-5480ed887704",
        "colab": {
          "base_uri": "https://localhost:8080/",
          "height": 284
        }
      },
      "source": [
        "summary = stock.describe()\n",
        "summary"
      ],
      "execution_count": 86,
      "outputs": [
        {
          "output_type": "execute_result",
          "data": {
            "text/html": [
              "<div>\n",
              "<style scoped>\n",
              "    .dataframe tbody tr th:only-of-type {\n",
              "        vertical-align: middle;\n",
              "    }\n",
              "\n",
              "    .dataframe tbody tr th {\n",
              "        vertical-align: top;\n",
              "    }\n",
              "\n",
              "    .dataframe thead th {\n",
              "        text-align: right;\n",
              "    }\n",
              "</style>\n",
              "<table border=\"1\" class=\"dataframe\">\n",
              "  <thead>\n",
              "    <tr style=\"text-align: right;\">\n",
              "      <th></th>\n",
              "      <th>open</th>\n",
              "      <th>high</th>\n",
              "      <th>low</th>\n",
              "      <th>close</th>\n",
              "      <th>volume</th>\n",
              "    </tr>\n",
              "  </thead>\n",
              "  <tbody>\n",
              "    <tr>\n",
              "      <th>count</th>\n",
              "      <td>100.000000</td>\n",
              "      <td>100.000000</td>\n",
              "      <td>100.000000</td>\n",
              "      <td>100.000000</td>\n",
              "      <td>1.000000e+02</td>\n",
              "    </tr>\n",
              "    <tr>\n",
              "      <th>mean</th>\n",
              "      <td>144.429329</td>\n",
              "      <td>145.225537</td>\n",
              "      <td>143.337444</td>\n",
              "      <td>144.382850</td>\n",
              "      <td>2.245657e+07</td>\n",
              "    </tr>\n",
              "    <tr>\n",
              "      <th>std</th>\n",
              "      <td>7.487524</td>\n",
              "      <td>7.519707</td>\n",
              "      <td>7.757246</td>\n",
              "      <td>7.719563</td>\n",
              "      <td>6.536061e+06</td>\n",
              "    </tr>\n",
              "    <tr>\n",
              "      <th>min</th>\n",
              "      <td>134.390000</td>\n",
              "      <td>134.580000</td>\n",
              "      <td>132.250000</td>\n",
              "      <td>133.390000</td>\n",
              "      <td>8.989150e+06</td>\n",
              "    </tr>\n",
              "    <tr>\n",
              "      <th>25%</th>\n",
              "      <td>138.001250</td>\n",
              "      <td>138.707500</td>\n",
              "      <td>136.626250</td>\n",
              "      <td>137.705000</td>\n",
              "      <td>1.795236e+07</td>\n",
              "    </tr>\n",
              "    <tr>\n",
              "      <th>50%</th>\n",
              "      <td>140.980000</td>\n",
              "      <td>142.080000</td>\n",
              "      <td>139.941800</td>\n",
              "      <td>141.322500</td>\n",
              "      <td>2.122114e+07</td>\n",
              "    </tr>\n",
              "    <tr>\n",
              "      <th>75%</th>\n",
              "      <td>150.907500</td>\n",
              "      <td>151.470000</td>\n",
              "      <td>149.988750</td>\n",
              "      <td>150.575000</td>\n",
              "      <td>2.525499e+07</td>\n",
              "    </tr>\n",
              "    <tr>\n",
              "      <th>max</th>\n",
              "      <td>159.450000</td>\n",
              "      <td>160.730000</td>\n",
              "      <td>158.330000</td>\n",
              "      <td>160.620000</td>\n",
              "      <td>5.359961e+07</td>\n",
              "    </tr>\n",
              "  </tbody>\n",
              "</table>\n",
              "</div>"
            ],
            "text/plain": [
              "             open        high         low       close        volume\n",
              "count  100.000000  100.000000  100.000000  100.000000  1.000000e+02\n",
              "mean   144.429329  145.225537  143.337444  144.382850  2.245657e+07\n",
              "std      7.487524    7.519707    7.757246    7.719563  6.536061e+06\n",
              "min    134.390000  134.580000  132.250000  133.390000  8.989150e+06\n",
              "25%    138.001250  138.707500  136.626250  137.705000  1.795236e+07\n",
              "50%    140.980000  142.080000  139.941800  141.322500  2.122114e+07\n",
              "75%    150.907500  151.470000  149.988750  150.575000  2.525499e+07\n",
              "max    159.450000  160.730000  158.330000  160.620000  5.359961e+07"
            ]
          },
          "metadata": {
            "tags": []
          },
          "execution_count": 86
        }
      ]
    },
    {
      "cell_type": "markdown",
      "metadata": {
        "id": "a_YRPE95xTLR",
        "colab_type": "text"
      },
      "source": [
        "***VISUALISE DATA***"
      ]
    },
    {
      "cell_type": "code",
      "metadata": {
        "id": "n8H75HrOxWRm",
        "colab_type": "code",
        "outputId": "bd4cf599-0134-43dd-e277-6396a0b49f3f",
        "colab": {
          "base_uri": "https://localhost:8080/",
          "height": 349
        }
      },
      "source": [
        "stock['close'].plot(figsize=(20,5), title='MSFT Daily Closing Prices'),plt.show()"
      ],
      "execution_count": 87,
      "outputs": [
        {
          "output_type": "display_data",
          "data": {
            "image/png": "[encoded data removed]",
            "text/plain": [
              "<Figure size 1440x360 with 1 Axes>"
            ]
          },
          "metadata": {
            "tags": []
          }
        },
        {
          "output_type": "execute_result",
          "data": {
            "text/plain": [
              "(<matplotlib.axes._subplots.AxesSubplot at 0x7f2c1d837c50>, None)"
            ]
          },
          "metadata": {
            "tags": []
          },
          "execution_count": 87
        }
      ]
    },
    {
      "cell_type": "markdown",
      "metadata": {
        "id": "ceFZVRbmzUyG",
        "colab_type": "text"
      },
      "source": [
        "***EXPLORING SIGNALS : SMA CROSSOVER***"
      ]
    },
    {
      "cell_type": "code",
      "metadata": {
        "id": "KCI2m_auzZaP",
        "colab_type": "code",
        "outputId": "afeda526-0b0d-4d87-f7d3-9cb081731180",
        "colab": {
          "base_uri": "https://localhost:8080/",
          "height": 349
        }
      },
      "source": [
        "stock['SMA10'] = stock['close'].rolling(10).mean()\n",
        "stock['SMA20'] = stock['close'].rolling(20).mean()\n",
        "stock[['close', 'SMA10', 'SMA20']].plot(figsize=(20,5), grid=True, title='MSFT Closing Price, SMA(10), SMA(20)'),plt.show()\n",
        "# stock # NaN because it takes mean of n period FORWARD, alphavantage issue on data importing"
      ],
      "execution_count": 88,
      "outputs": [
        {
          "output_type": "display_data",
          "data": {
            "image/png": "[encoded data removed]",
            "text/plain": [
              "<Figure size 1440x360 with 1 Axes>"
            ]
          },
          "metadata": {
            "tags": []
          }
        },
        {
          "output_type": "execute_result",
          "data": {
            "text/plain": [
              "(<matplotlib.axes._subplots.AxesSubplot at 0x7f2c1d7d4cf8>, None)"
            ]
          },
          "metadata": {
            "tags": []
          },
          "execution_count": 88
        }
      ]
    },
    {
      "cell_type": "markdown",
      "metadata": {
        "id": "17jJVuta2eFD",
        "colab_type": "text"
      },
      "source": [
        "***SORT DATA BY DATE ASCENDING & PLOT RIGHT CHART***"
      ]
    },
    {
      "cell_type": "code",
      "metadata": {
        "id": "XW5aB8Hb25sq",
        "colab_type": "code",
        "outputId": "37a3bb66-abe0-4392-ec59-c2a6d27a9fa8",
        "colab": {
          "base_uri": "https://localhost:8080/",
          "height": 195
        }
      },
      "source": [
        "stock.head()"
      ],
      "execution_count": 89,
      "outputs": [
        {
          "output_type": "execute_result",
          "data": {
            "text/html": [
              "<div>\n",
              "<style scoped>\n",
              "    .dataframe tbody tr th:only-of-type {\n",
              "        vertical-align: middle;\n",
              "    }\n",
              "\n",
              "    .dataframe tbody tr th {\n",
              "        vertical-align: top;\n",
              "    }\n",
              "\n",
              "    .dataframe thead th {\n",
              "        text-align: right;\n",
              "    }\n",
              "</style>\n",
              "<table border=\"1\" class=\"dataframe\">\n",
              "  <thead>\n",
              "    <tr style=\"text-align: right;\">\n",
              "      <th></th>\n",
              "      <th>open</th>\n",
              "      <th>high</th>\n",
              "      <th>low</th>\n",
              "      <th>close</th>\n",
              "      <th>volume</th>\n",
              "      <th>SMA10</th>\n",
              "      <th>SMA20</th>\n",
              "    </tr>\n",
              "  </thead>\n",
              "  <tbody>\n",
              "    <tr>\n",
              "      <th>2020-01-07</th>\n",
              "      <td>159.32</td>\n",
              "      <td>159.670</td>\n",
              "      <td>157.32</td>\n",
              "      <td>157.58</td>\n",
              "      <td>21253280.0</td>\n",
              "      <td>NaN</td>\n",
              "      <td>NaN</td>\n",
              "    </tr>\n",
              "    <tr>\n",
              "      <th>2020-01-06</th>\n",
              "      <td>157.08</td>\n",
              "      <td>159.100</td>\n",
              "      <td>156.51</td>\n",
              "      <td>159.03</td>\n",
              "      <td>20826702.0</td>\n",
              "      <td>NaN</td>\n",
              "      <td>NaN</td>\n",
              "    </tr>\n",
              "    <tr>\n",
              "      <th>2020-01-03</th>\n",
              "      <td>158.32</td>\n",
              "      <td>159.945</td>\n",
              "      <td>158.06</td>\n",
              "      <td>158.62</td>\n",
              "      <td>21121681.0</td>\n",
              "      <td>NaN</td>\n",
              "      <td>NaN</td>\n",
              "    </tr>\n",
              "    <tr>\n",
              "      <th>2020-01-02</th>\n",
              "      <td>158.78</td>\n",
              "      <td>160.730</td>\n",
              "      <td>158.33</td>\n",
              "      <td>160.62</td>\n",
              "      <td>22634546.0</td>\n",
              "      <td>NaN</td>\n",
              "      <td>NaN</td>\n",
              "    </tr>\n",
              "    <tr>\n",
              "      <th>2019-12-31</th>\n",
              "      <td>156.77</td>\n",
              "      <td>157.770</td>\n",
              "      <td>156.45</td>\n",
              "      <td>157.70</td>\n",
              "      <td>18393383.0</td>\n",
              "      <td>NaN</td>\n",
              "      <td>NaN</td>\n",
              "    </tr>\n",
              "  </tbody>\n",
              "</table>\n",
              "</div>"
            ],
            "text/plain": [
              "              open     high     low   close      volume  SMA10  SMA20\n",
              "2020-01-07  159.32  159.670  157.32  157.58  21253280.0    NaN    NaN\n",
              "2020-01-06  157.08  159.100  156.51  159.03  20826702.0    NaN    NaN\n",
              "2020-01-03  158.32  159.945  158.06  158.62  21121681.0    NaN    NaN\n",
              "2020-01-02  158.78  160.730  158.33  160.62  22634546.0    NaN    NaN\n",
              "2019-12-31  156.77  157.770  156.45  157.70  18393383.0    NaN    NaN"
            ]
          },
          "metadata": {
            "tags": []
          },
          "execution_count": 89
        }
      ]
    },
    {
      "cell_type": "code",
      "metadata": {
        "id": "8FOhUeBA2vct",
        "colab_type": "code",
        "outputId": "db545189-51a9-4241-f653-a636fee764c4",
        "colab": {
          "base_uri": "https://localhost:8080/",
          "height": 195
        }
      },
      "source": [
        "stock = stock.sort_index(ascending=True)\n",
        "stock.head()"
      ],
      "execution_count": 90,
      "outputs": [
        {
          "output_type": "execute_result",
          "data": {
            "text/html": [
              "<div>\n",
              "<style scoped>\n",
              "    .dataframe tbody tr th:only-of-type {\n",
              "        vertical-align: middle;\n",
              "    }\n",
              "\n",
              "    .dataframe tbody tr th {\n",
              "        vertical-align: top;\n",
              "    }\n",
              "\n",
              "    .dataframe thead th {\n",
              "        text-align: right;\n",
              "    }\n",
              "</style>\n",
              "<table border=\"1\" class=\"dataframe\">\n",
              "  <thead>\n",
              "    <tr style=\"text-align: right;\">\n",
              "      <th></th>\n",
              "      <th>open</th>\n",
              "      <th>high</th>\n",
              "      <th>low</th>\n",
              "      <th>close</th>\n",
              "      <th>volume</th>\n",
              "      <th>SMA10</th>\n",
              "      <th>SMA20</th>\n",
              "    </tr>\n",
              "  </thead>\n",
              "  <tbody>\n",
              "    <tr>\n",
              "      <th>2019-08-15</th>\n",
              "      <td>134.390</td>\n",
              "      <td>134.5800</td>\n",
              "      <td>132.250</td>\n",
              "      <td>133.68</td>\n",
              "      <td>28125416.0</td>\n",
              "      <td>136.219</td>\n",
              "      <td>136.9115</td>\n",
              "    </tr>\n",
              "    <tr>\n",
              "      <th>2019-08-16</th>\n",
              "      <td>134.880</td>\n",
              "      <td>136.4600</td>\n",
              "      <td>134.720</td>\n",
              "      <td>136.13</td>\n",
              "      <td>25026151.0</td>\n",
              "      <td>136.663</td>\n",
              "      <td>137.0935</td>\n",
              "    </tr>\n",
              "    <tr>\n",
              "      <th>2019-08-19</th>\n",
              "      <td>137.855</td>\n",
              "      <td>138.5500</td>\n",
              "      <td>136.885</td>\n",
              "      <td>138.41</td>\n",
              "      <td>24370543.0</td>\n",
              "      <td>136.836</td>\n",
              "      <td>137.1035</td>\n",
              "    </tr>\n",
              "    <tr>\n",
              "      <th>2019-08-20</th>\n",
              "      <td>138.210</td>\n",
              "      <td>138.7100</td>\n",
              "      <td>137.240</td>\n",
              "      <td>137.26</td>\n",
              "      <td>21188998.0</td>\n",
              "      <td>136.599</td>\n",
              "      <td>137.0525</td>\n",
              "    </tr>\n",
              "    <tr>\n",
              "      <th>2019-08-21</th>\n",
              "      <td>138.550</td>\n",
              "      <td>139.4935</td>\n",
              "      <td>138.000</td>\n",
              "      <td>138.79</td>\n",
              "      <td>14982314.0</td>\n",
              "      <td>136.636</td>\n",
              "      <td>137.1155</td>\n",
              "    </tr>\n",
              "  </tbody>\n",
              "</table>\n",
              "</div>"
            ],
            "text/plain": [
              "               open      high      low   close      volume    SMA10     SMA20\n",
              "2019-08-15  134.390  134.5800  132.250  133.68  28125416.0  136.219  136.9115\n",
              "2019-08-16  134.880  136.4600  134.720  136.13  25026151.0  136.663  137.0935\n",
              "2019-08-19  137.855  138.5500  136.885  138.41  24370543.0  136.836  137.1035\n",
              "2019-08-20  138.210  138.7100  137.240  137.26  21188998.0  136.599  137.0525\n",
              "2019-08-21  138.550  139.4935  138.000  138.79  14982314.0  136.636  137.1155"
            ]
          },
          "metadata": {
            "tags": []
          },
          "execution_count": 90
        }
      ]
    },
    {
      "cell_type": "code",
      "metadata": {
        "id": "sttH2MnG3KNW",
        "colab_type": "code",
        "outputId": "f9c7b761-ef77-45f2-e95e-8412f86a9dc7",
        "colab": {
          "base_uri": "https://localhost:8080/",
          "height": 349
        }
      },
      "source": [
        "# Need to recalculate SMA\n",
        "\n",
        "stock['SMA10'] = stock['close'].rolling(10).mean()\n",
        "stock['SMA20'] = stock['close'].rolling(20).mean()\n",
        "stock[['close', 'SMA10','SMA20']].plot(figsize=(20,5), grid=True, title='MSFT Closing Price, SMA(10), SMA(20)'),plt.show()"
      ],
      "execution_count": 91,
      "outputs": [
        {
          "output_type": "display_data",
          "data": {
            "image/png": "[encoded data removed]",
            "text/plain": [
              "<Figure size 1440x360 with 1 Axes>"
            ]
          },
          "metadata": {
            "tags": []
          }
        },
        {
          "output_type": "execute_result",
          "data": {
            "text/plain": [
              "(<matplotlib.axes._subplots.AxesSubplot at 0x7f2c1d755d68>, None)"
            ]
          },
          "metadata": {
            "tags": []
          },
          "execution_count": 91
        }
      ]
    },
    {
      "cell_type": "code",
      "metadata": {
        "id": "_GRdJQ2D3_u-",
        "colab_type": "code",
        "outputId": "009a2d15-8d00-4d20-8e80-379909766040",
        "colab": {
          "base_uri": "https://localhost:8080/",
          "height": 195
        }
      },
      "source": [
        "stock.head()"
      ],
      "execution_count": 92,
      "outputs": [
        {
          "output_type": "execute_result",
          "data": {
            "text/html": [
              "<div>\n",
              "<style scoped>\n",
              "    .dataframe tbody tr th:only-of-type {\n",
              "        vertical-align: middle;\n",
              "    }\n",
              "\n",
              "    .dataframe tbody tr th {\n",
              "        vertical-align: top;\n",
              "    }\n",
              "\n",
              "    .dataframe thead th {\n",
              "        text-align: right;\n",
              "    }\n",
              "</style>\n",
              "<table border=\"1\" class=\"dataframe\">\n",
              "  <thead>\n",
              "    <tr style=\"text-align: right;\">\n",
              "      <th></th>\n",
              "      <th>open</th>\n",
              "      <th>high</th>\n",
              "      <th>low</th>\n",
              "      <th>close</th>\n",
              "      <th>volume</th>\n",
              "      <th>SMA10</th>\n",
              "      <th>SMA20</th>\n",
              "    </tr>\n",
              "  </thead>\n",
              "  <tbody>\n",
              "    <tr>\n",
              "      <th>2019-08-15</th>\n",
              "      <td>134.390</td>\n",
              "      <td>134.5800</td>\n",
              "      <td>132.250</td>\n",
              "      <td>133.68</td>\n",
              "      <td>28125416.0</td>\n",
              "      <td>NaN</td>\n",
              "      <td>NaN</td>\n",
              "    </tr>\n",
              "    <tr>\n",
              "      <th>2019-08-16</th>\n",
              "      <td>134.880</td>\n",
              "      <td>136.4600</td>\n",
              "      <td>134.720</td>\n",
              "      <td>136.13</td>\n",
              "      <td>25026151.0</td>\n",
              "      <td>NaN</td>\n",
              "      <td>NaN</td>\n",
              "    </tr>\n",
              "    <tr>\n",
              "      <th>2019-08-19</th>\n",
              "      <td>137.855</td>\n",
              "      <td>138.5500</td>\n",
              "      <td>136.885</td>\n",
              "      <td>138.41</td>\n",
              "      <td>24370543.0</td>\n",
              "      <td>NaN</td>\n",
              "      <td>NaN</td>\n",
              "    </tr>\n",
              "    <tr>\n",
              "      <th>2019-08-20</th>\n",
              "      <td>138.210</td>\n",
              "      <td>138.7100</td>\n",
              "      <td>137.240</td>\n",
              "      <td>137.26</td>\n",
              "      <td>21188998.0</td>\n",
              "      <td>NaN</td>\n",
              "      <td>NaN</td>\n",
              "    </tr>\n",
              "    <tr>\n",
              "      <th>2019-08-21</th>\n",
              "      <td>138.550</td>\n",
              "      <td>139.4935</td>\n",
              "      <td>138.000</td>\n",
              "      <td>138.79</td>\n",
              "      <td>14982314.0</td>\n",
              "      <td>NaN</td>\n",
              "      <td>NaN</td>\n",
              "    </tr>\n",
              "  </tbody>\n",
              "</table>\n",
              "</div>"
            ],
            "text/plain": [
              "               open      high      low   close      volume  SMA10  SMA20\n",
              "2019-08-15  134.390  134.5800  132.250  133.68  28125416.0    NaN    NaN\n",
              "2019-08-16  134.880  136.4600  134.720  136.13  25026151.0    NaN    NaN\n",
              "2019-08-19  137.855  138.5500  136.885  138.41  24370543.0    NaN    NaN\n",
              "2019-08-20  138.210  138.7100  137.240  137.26  21188998.0    NaN    NaN\n",
              "2019-08-21  138.550  139.4935  138.000  138.79  14982314.0    NaN    NaN"
            ]
          },
          "metadata": {
            "tags": []
          },
          "execution_count": 92
        }
      ]
    },
    {
      "cell_type": "markdown",
      "metadata": {
        "id": "1ppkHd1a4MTS",
        "colab_type": "text"
      },
      "source": [
        "***REMOVE NaN***"
      ]
    },
    {
      "cell_type": "code",
      "metadata": {
        "id": "unzBHkZ54S2E",
        "colab_type": "code",
        "outputId": "9fb22434-90d8-4038-b61a-090f61ad044b",
        "colab": {
          "base_uri": "https://localhost:8080/",
          "height": 450
        }
      },
      "source": [
        "stock.dropna(inplace=True)\n",
        "print(stock.head())\n",
        "stock[['close', 'SMA10','SMA20']].plot(figsize=(20,5), grid=True, title='MSFT Closing Price, SMA(10), SMA(20)'),plt.show()"
      ],
      "execution_count": 93,
      "outputs": [
        {
          "output_type": "stream",
          "text": [
            "              open    high       low   close      volume    SMA10     SMA20\n",
            "2019-09-12  137.85  138.42  136.8700  137.52  27009981.0  137.604  136.9115\n",
            "2019-09-13  137.78  138.06  136.5700  137.32  23363057.0  137.524  137.0935\n",
            "2019-09-16  135.83  136.70  135.6600  136.33  16731440.0  137.371  137.1035\n",
            "2019-09-17  136.96  137.52  136.4250  137.39  17976285.0  137.506  137.0525\n",
            "2019-09-18  137.36  138.67  136.5299  138.52  24473386.0  137.595  137.1155\n"
          ],
          "name": "stdout"
        },
        {
          "output_type": "display_data",
          "data": {
            "image/png": "[encoded data removed]",
            "text/plain": [
              "<Figure size 1440x360 with 1 Axes>"
            ]
          },
          "metadata": {
            "tags": []
          }
        },
        {
          "output_type": "execute_result",
          "data": {
            "text/plain": [
              "(<matplotlib.axes._subplots.AxesSubplot at 0x7f2c1d73a198>, None)"
            ]
          },
          "metadata": {
            "tags": []
          },
          "execution_count": 93
        }
      ]
    },
    {
      "cell_type": "markdown",
      "metadata": {
        "id": "L_h7bAQzLvLE",
        "colab_type": "text"
      },
      "source": [
        "***EVALUATING SIGNAL : Using Information Coefficient & Spearman Correlation***"
      ]
    },
    {
      "cell_type": "code",
      "metadata": {
        "id": "t1RTUj6uBuaY",
        "colab_type": "code",
        "colab": {
          "base_uri": "https://localhost:8080/",
          "height": 195
        },
        "outputId": "f26d544a-9534-4d1c-ffc0-5c505b5fe335"
      },
      "source": [
        "# get sma10 & sma20 difference value\n",
        "\n",
        "signal = pd.DataFrame()\n",
        "signal['crossover'] = stock['SMA10'] - stock['SMA20']\n",
        "signal.tail()"
      ],
      "execution_count": 94,
      "outputs": [
        {
          "output_type": "execute_result",
          "data": {
            "text/html": [
              "<div>\n",
              "<style scoped>\n",
              "    .dataframe tbody tr th:only-of-type {\n",
              "        vertical-align: middle;\n",
              "    }\n",
              "\n",
              "    .dataframe tbody tr th {\n",
              "        vertical-align: top;\n",
              "    }\n",
              "\n",
              "    .dataframe thead th {\n",
              "        text-align: right;\n",
              "    }\n",
              "</style>\n",
              "<table border=\"1\" class=\"dataframe\">\n",
              "  <thead>\n",
              "    <tr style=\"text-align: right;\">\n",
              "      <th></th>\n",
              "      <th>crossover</th>\n",
              "    </tr>\n",
              "  </thead>\n",
              "  <tbody>\n",
              "    <tr>\n",
              "      <th>2019-12-31</th>\n",
              "      <td>2.5780</td>\n",
              "    </tr>\n",
              "    <tr>\n",
              "      <th>2020-01-02</th>\n",
              "      <td>2.6055</td>\n",
              "    </tr>\n",
              "    <tr>\n",
              "      <th>2020-01-03</th>\n",
              "      <td>2.5920</td>\n",
              "    </tr>\n",
              "    <tr>\n",
              "      <th>2020-01-06</th>\n",
              "      <td>2.4690</td>\n",
              "    </tr>\n",
              "    <tr>\n",
              "      <th>2020-01-07</th>\n",
              "      <td>2.1945</td>\n",
              "    </tr>\n",
              "  </tbody>\n",
              "</table>\n",
              "</div>"
            ],
            "text/plain": [
              "            crossover\n",
              "2019-12-31     2.5780\n",
              "2020-01-02     2.6055\n",
              "2020-01-03     2.5920\n",
              "2020-01-06     2.4690\n",
              "2020-01-07     2.1945"
            ]
          },
          "metadata": {
            "tags": []
          },
          "execution_count": 94
        }
      ]
    },
    {
      "cell_type": "code",
      "metadata": {
        "id": "-KksrQ1dMU96",
        "colab_type": "code",
        "colab": {
          "base_uri": "https://localhost:8080/",
          "height": 195
        },
        "outputId": "cb8264c2-46a3-4968-ffc7-836ef0a079ad"
      },
      "source": [
        "# join the crossover table to our main table\n",
        "\n",
        "stock = stock.join(signal, how='left')\n",
        "stock.tail()"
      ],
      "execution_count": 95,
      "outputs": [
        {
          "output_type": "execute_result",
          "data": {
            "text/html": [
              "<div>\n",
              "<style scoped>\n",
              "    .dataframe tbody tr th:only-of-type {\n",
              "        vertical-align: middle;\n",
              "    }\n",
              "\n",
              "    .dataframe tbody tr th {\n",
              "        vertical-align: top;\n",
              "    }\n",
              "\n",
              "    .dataframe thead th {\n",
              "        text-align: right;\n",
              "    }\n",
              "</style>\n",
              "<table border=\"1\" class=\"dataframe\">\n",
              "  <thead>\n",
              "    <tr style=\"text-align: right;\">\n",
              "      <th></th>\n",
              "      <th>open</th>\n",
              "      <th>high</th>\n",
              "      <th>low</th>\n",
              "      <th>close</th>\n",
              "      <th>volume</th>\n",
              "      <th>SMA10</th>\n",
              "      <th>SMA20</th>\n",
              "      <th>crossover</th>\n",
              "    </tr>\n",
              "  </thead>\n",
              "  <tbody>\n",
              "    <tr>\n",
              "      <th>2019-12-31</th>\n",
              "      <td>156.77</td>\n",
              "      <td>157.770</td>\n",
              "      <td>156.45</td>\n",
              "      <td>157.70</td>\n",
              "      <td>18393383.0</td>\n",
              "      <td>156.989</td>\n",
              "      <td>154.4110</td>\n",
              "      <td>2.5780</td>\n",
              "    </tr>\n",
              "    <tr>\n",
              "      <th>2020-01-02</th>\n",
              "      <td>158.78</td>\n",
              "      <td>160.730</td>\n",
              "      <td>158.33</td>\n",
              "      <td>160.62</td>\n",
              "      <td>22634546.0</td>\n",
              "      <td>157.582</td>\n",
              "      <td>154.9765</td>\n",
              "      <td>2.6055</td>\n",
              "    </tr>\n",
              "    <tr>\n",
              "      <th>2020-01-03</th>\n",
              "      <td>158.32</td>\n",
              "      <td>159.945</td>\n",
              "      <td>158.06</td>\n",
              "      <td>158.62</td>\n",
              "      <td>21121681.0</td>\n",
              "      <td>158.007</td>\n",
              "      <td>155.4150</td>\n",
              "      <td>2.5920</td>\n",
              "    </tr>\n",
              "    <tr>\n",
              "      <th>2020-01-06</th>\n",
              "      <td>157.08</td>\n",
              "      <td>159.100</td>\n",
              "      <td>156.51</td>\n",
              "      <td>159.03</td>\n",
              "      <td>20826702.0</td>\n",
              "      <td>158.339</td>\n",
              "      <td>155.8700</td>\n",
              "      <td>2.4690</td>\n",
              "    </tr>\n",
              "    <tr>\n",
              "      <th>2020-01-07</th>\n",
              "      <td>159.32</td>\n",
              "      <td>159.670</td>\n",
              "      <td>157.32</td>\n",
              "      <td>157.58</td>\n",
              "      <td>21253280.0</td>\n",
              "      <td>158.356</td>\n",
              "      <td>156.1615</td>\n",
              "      <td>2.1945</td>\n",
              "    </tr>\n",
              "  </tbody>\n",
              "</table>\n",
              "</div>"
            ],
            "text/plain": [
              "              open     high     low  ...    SMA10     SMA20  crossover\n",
              "2019-12-31  156.77  157.770  156.45  ...  156.989  154.4110     2.5780\n",
              "2020-01-02  158.78  160.730  158.33  ...  157.582  154.9765     2.6055\n",
              "2020-01-03  158.32  159.945  158.06  ...  158.007  155.4150     2.5920\n",
              "2020-01-06  157.08  159.100  156.51  ...  158.339  155.8700     2.4690\n",
              "2020-01-07  159.32  159.670  157.32  ...  158.356  156.1615     2.1945\n",
              "\n",
              "[5 rows x 8 columns]"
            ]
          },
          "metadata": {
            "tags": []
          },
          "execution_count": 95
        }
      ]
    },
    {
      "cell_type": "code",
      "metadata": {
        "id": "c1RdaAQpNegs",
        "colab_type": "code",
        "colab": {
          "base_uri": "https://localhost:8080/",
          "height": 195
        },
        "outputId": "0df1a673-a203-460c-eae3-6d166199113b"
      },
      "source": [
        "# calculate stock closing price difference from the previous 1 day\n",
        "\n",
        "signal['close-close']=stock['close'].diff(periods=1)\n",
        "signal.head()"
      ],
      "execution_count": 96,
      "outputs": [
        {
          "output_type": "execute_result",
          "data": {
            "text/html": [
              "<div>\n",
              "<style scoped>\n",
              "    .dataframe tbody tr th:only-of-type {\n",
              "        vertical-align: middle;\n",
              "    }\n",
              "\n",
              "    .dataframe tbody tr th {\n",
              "        vertical-align: top;\n",
              "    }\n",
              "\n",
              "    .dataframe thead th {\n",
              "        text-align: right;\n",
              "    }\n",
              "</style>\n",
              "<table border=\"1\" class=\"dataframe\">\n",
              "  <thead>\n",
              "    <tr style=\"text-align: right;\">\n",
              "      <th></th>\n",
              "      <th>crossover</th>\n",
              "      <th>close-close</th>\n",
              "    </tr>\n",
              "  </thead>\n",
              "  <tbody>\n",
              "    <tr>\n",
              "      <th>2019-09-12</th>\n",
              "      <td>0.6925</td>\n",
              "      <td>NaN</td>\n",
              "    </tr>\n",
              "    <tr>\n",
              "      <th>2019-09-13</th>\n",
              "      <td>0.4305</td>\n",
              "      <td>-0.20</td>\n",
              "    </tr>\n",
              "    <tr>\n",
              "      <th>2019-09-16</th>\n",
              "      <td>0.2675</td>\n",
              "      <td>-0.99</td>\n",
              "    </tr>\n",
              "    <tr>\n",
              "      <th>2019-09-17</th>\n",
              "      <td>0.4535</td>\n",
              "      <td>1.06</td>\n",
              "    </tr>\n",
              "    <tr>\n",
              "      <th>2019-09-18</th>\n",
              "      <td>0.4795</td>\n",
              "      <td>1.13</td>\n",
              "    </tr>\n",
              "  </tbody>\n",
              "</table>\n",
              "</div>"
            ],
            "text/plain": [
              "            crossover  close-close\n",
              "2019-09-12     0.6925          NaN\n",
              "2019-09-13     0.4305        -0.20\n",
              "2019-09-16     0.2675        -0.99\n",
              "2019-09-17     0.4535         1.06\n",
              "2019-09-18     0.4795         1.13"
            ]
          },
          "metadata": {
            "tags": []
          },
          "execution_count": 96
        }
      ]
    },
    {
      "cell_type": "code",
      "metadata": {
        "id": "mqh5E-eXQElW",
        "colab_type": "code",
        "colab": {
          "base_uri": "https://localhost:8080/",
          "height": 218
        },
        "outputId": "43362817-5649-4575-e278-f85756e7e044"
      },
      "source": [
        "# finding momentum signal. return true if signal exist, false if not \n",
        "\n",
        "signal.dropna(inplace=True) # inplace=True will remove the row that has NaN value entirely. False will keep the row and change the NaN value\n",
        "quality = (signal['crossover'] > 0) & (signal['close-close'] > 0) | (signal['crossover'] < 0) & (signal['close-close'] < 0) # definition of signal : buy if (price increase & sma10 > sma20) . sell if (price  decrease & sma10 < sma20)\n",
        "display(quality.head())\n",
        "\n",
        "# convert quality from boolean to integer\n",
        "quality = quality.astype(int)\n",
        "quality.head()\n"
      ],
      "execution_count": 98,
      "outputs": [
        {
          "output_type": "display_data",
          "data": {
            "text/plain": [
              "2019-09-13    False\n",
              "2019-09-16    False\n",
              "2019-09-17     True\n",
              "2019-09-18     True\n",
              "2019-09-19     True\n",
              "dtype: bool"
            ]
          },
          "metadata": {
            "tags": []
          }
        },
        {
          "output_type": "execute_result",
          "data": {
            "text/plain": [
              "2019-09-13    0\n",
              "2019-09-16    0\n",
              "2019-09-17    1\n",
              "2019-09-18    1\n",
              "2019-09-19    1\n",
              "dtype: int64"
            ]
          },
          "metadata": {
            "tags": []
          },
          "execution_count": 98
        }
      ]
    },
    {
      "cell_type": "code",
      "metadata": {
        "id": "YwheV-7DU-fX",
        "colab_type": "code",
        "colab": {
          "base_uri": "https://localhost:8080/",
          "height": 50
        },
        "outputId": "0a9f563c-d120-46df-a25c-51094ecaec92"
      },
      "source": [
        "# calculating information coefficient : https://www.investopedia.com/terms/i/information-coefficient.asp\n",
        "\n",
        "proportion_correct = quality.sum()/quality.count()\n",
        "display(proportion_correct)\n",
        "\n",
        "information_coefficient = 2*proportion_correct - 1\n",
        "information_coefficient # +1 good, -1 bad\n",
        "\n"
      ],
      "execution_count": 99,
      "outputs": [
        {
          "output_type": "display_data",
          "data": {
            "text/plain": [
              "0.575"
            ]
          },
          "metadata": {
            "tags": []
          }
        },
        {
          "output_type": "execute_result",
          "data": {
            "text/plain": [
              "0.1499999999999999"
            ]
          },
          "metadata": {
            "tags": []
          },
          "execution_count": 99
        }
      ]
    },
    {
      "cell_type": "code",
      "metadata": {
        "id": "ZzyaaizouP3R",
        "colab_type": "code",
        "colab": {
          "base_uri": "https://localhost:8080/",
          "height": 106
        },
        "outputId": "5bc025a6-58f9-4acf-82c9-37fa6c2cadf9"
      },
      "source": [
        "# spearman correlation (why not pearson tho ?)\n",
        "\n",
        "signal.corr(method='spearman')"
      ],
      "execution_count": 100,
      "outputs": [
        {
          "output_type": "execute_result",
          "data": {
            "text/html": [
              "<div>\n",
              "<style scoped>\n",
              "    .dataframe tbody tr th:only-of-type {\n",
              "        vertical-align: middle;\n",
              "    }\n",
              "\n",
              "    .dataframe tbody tr th {\n",
              "        vertical-align: top;\n",
              "    }\n",
              "\n",
              "    .dataframe thead th {\n",
              "        text-align: right;\n",
              "    }\n",
              "</style>\n",
              "<table border=\"1\" class=\"dataframe\">\n",
              "  <thead>\n",
              "    <tr style=\"text-align: right;\">\n",
              "      <th></th>\n",
              "      <th>crossover</th>\n",
              "      <th>close-close</th>\n",
              "    </tr>\n",
              "  </thead>\n",
              "  <tbody>\n",
              "    <tr>\n",
              "      <th>crossover</th>\n",
              "      <td>1.000000</td>\n",
              "      <td>0.010689</td>\n",
              "    </tr>\n",
              "    <tr>\n",
              "      <th>close-close</th>\n",
              "      <td>0.010689</td>\n",
              "      <td>1.000000</td>\n",
              "    </tr>\n",
              "  </tbody>\n",
              "</table>\n",
              "</div>"
            ],
            "text/plain": [
              "             crossover  close-close\n",
              "crossover     1.000000     0.010689\n",
              "close-close   0.010689     1.000000"
            ]
          },
          "metadata": {
            "tags": []
          },
          "execution_count": 100
        }
      ]
    }
  ]
}